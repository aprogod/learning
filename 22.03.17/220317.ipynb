{
 "cells": [
  {
   "cell_type": "code",
   "execution_count": 2,
   "metadata": {},
   "outputs": [],
   "source": [
    "from pymongo import MongoClient"
   ]
  },
  {
   "cell_type": "code",
   "execution_count": 3,
   "metadata": {},
   "outputs": [],
   "source": [
    "client = MongoClient(\n",
    "    host = 'localhost',\n",
    "    port = 27017\n",
    ")"
   ]
  },
  {
   "cell_type": "code",
   "execution_count": 4,
   "metadata": {},
   "outputs": [
    {
     "data": {
      "text/plain": [
       "['admin', 'config', 'local', 'ubion']"
      ]
     },
     "execution_count": 4,
     "metadata": {},
     "output_type": "execute_result"
    }
   ],
   "source": [
    "client.list_database_names()"
   ]
  },
  {
   "cell_type": "code",
   "execution_count": 5,
   "metadata": {},
   "outputs": [
    {
     "data": {
      "text/plain": [
       "[{'_id': ObjectId('62328e8cc61a966784469ae3'),\n",
       "  'name': 'test',\n",
       "  'phone': '01012345678'},\n",
       " {'_id': ObjectId('62328f17c61a966784469ae4'),\n",
       "  'name': 'test2',\n",
       "  'phone': '01011111111'},\n",
       " {'_id': ObjectId('6232905bc61a966784469ae5'), 'loc': 'Seoul'},\n",
       " {'_id': ObjectId('6232905bc61a966784469ae6'),\n",
       "  'gender': 'male',\n",
       "  'age': 20.0,\n",
       "  'hobby': 'soccer'}]"
      ]
     },
     "execution_count": 5,
     "metadata": {},
     "output_type": "execute_result"
    }
   ],
   "source": [
    "db = client[\"ubion\"]\n",
    "list(db.test.find())\n",
    "### list(db[\"test\"].find())  <<  이것도 가능하다"
   ]
  },
  {
   "cell_type": "code",
   "execution_count": 6,
   "metadata": {},
   "outputs": [
    {
     "data": {
      "text/plain": [
       "<pymongo.results.InsertOneResult at 0x17d7c26ecc0>"
      ]
     },
     "execution_count": 6,
     "metadata": {},
     "output_type": "execute_result"
    }
   ],
   "source": [
    "data = {\n",
    "    \"1\" : \"1\",\n",
    "    \"2\" : \"2\",\n",
    "    \"3\" : \"3\"\n",
    "\n",
    "}\n",
    "db.test.insert_one(data)"
   ]
  },
  {
   "cell_type": "code",
   "execution_count": null,
   "metadata": {},
   "outputs": [],
   "source": [
    "### data 변수 만들어서 insert_many를 사용해볼것"
   ]
  },
  {
   "cell_type": "code",
   "execution_count": 7,
   "metadata": {},
   "outputs": [
    {
     "data": {
      "text/plain": [
       "<pymongo.results.InsertManyResult at 0x17d7c26d2c0>"
      ]
     },
     "execution_count": 7,
     "metadata": {},
     "output_type": "execute_result"
    }
   ],
   "source": [
    "data = [{\n",
    "    \"1\" : \"2\"\n",
    "},\n",
    "{\"3\" : \"4\"}\n",
    "]\n",
    "\n",
    "db.test.insert_many(data)"
   ]
  },
  {
   "cell_type": "code",
   "execution_count": 8,
   "metadata": {},
   "outputs": [
    {
     "data": {
      "text/plain": [
       "[{'_id': ObjectId('62328e8cc61a966784469ae3'),\n",
       "  'name': 'test',\n",
       "  'phone': '01012345678'},\n",
       " {'_id': ObjectId('62328f17c61a966784469ae4'),\n",
       "  'name': 'test2',\n",
       "  'phone': '01011111111'},\n",
       " {'_id': ObjectId('6232905bc61a966784469ae5'), 'loc': 'Seoul'},\n",
       " {'_id': ObjectId('6232905bc61a966784469ae6'),\n",
       "  'gender': 'male',\n",
       "  'age': 20.0,\n",
       "  'hobby': 'soccer'},\n",
       " {'_id': ObjectId('6232980c237b0e4520a3e9e3'), '1': '1', '2': '2', '3': '3'},\n",
       " {'_id': ObjectId('62329a5a237b0e4520a3e9e4'), '1': '2'},\n",
       " {'_id': ObjectId('62329a5a237b0e4520a3e9e5'), '3': '4'}]"
      ]
     },
     "execution_count": 8,
     "metadata": {},
     "output_type": "execute_result"
    }
   ],
   "source": [
    "list(db.test.find())"
   ]
  },
  {
   "cell_type": "code",
   "execution_count": 9,
   "metadata": {},
   "outputs": [],
   "source": [
    "import mod_sql\n",
    "_db = mod_sql.Database()"
   ]
  },
  {
   "cell_type": "code",
   "execution_count": 13,
   "metadata": {},
   "outputs": [
    {
     "data": {
      "text/plain": [
       "[{'EMPNO': Decimal('7369'),\n",
       "  'ENAME': 'SMITH',\n",
       "  'JOB': 'CLERK',\n",
       "  'MGR': Decimal('7902'),\n",
       "  'HIREDATE': datetime.date(1980, 12, 17),\n",
       "  'SAL': Decimal('800.00'),\n",
       "  'COMM': None,\n",
       "  'DEPTNO': Decimal('20')},\n",
       " {'EMPNO': Decimal('7499'),\n",
       "  'ENAME': 'ALLEN',\n",
       "  'JOB': 'SALESMAN',\n",
       "  'MGR': Decimal('7698'),\n",
       "  'HIREDATE': datetime.date(1981, 2, 20),\n",
       "  'SAL': Decimal('1600.00'),\n",
       "  'COMM': Decimal('300.00'),\n",
       "  'DEPTNO': Decimal('30')},\n",
       " {'EMPNO': Decimal('7521'),\n",
       "  'ENAME': 'WARD',\n",
       "  'JOB': 'SALESMAN',\n",
       "  'MGR': Decimal('7698'),\n",
       "  'HIREDATE': datetime.date(1981, 2, 22),\n",
       "  'SAL': Decimal('1250.00'),\n",
       "  'COMM': Decimal('500.00'),\n",
       "  'DEPTNO': Decimal('30')},\n",
       " {'EMPNO': Decimal('7566'),\n",
       "  'ENAME': 'JONES',\n",
       "  'JOB': 'MANAGER',\n",
       "  'MGR': Decimal('7839'),\n",
       "  'HIREDATE': datetime.date(1981, 4, 2),\n",
       "  'SAL': Decimal('2975.00'),\n",
       "  'COMM': None,\n",
       "  'DEPTNO': Decimal('20')},\n",
       " {'EMPNO': Decimal('7654'),\n",
       "  'ENAME': 'MARTIN',\n",
       "  'JOB': 'SALESMAN',\n",
       "  'MGR': Decimal('7698'),\n",
       "  'HIREDATE': datetime.date(1981, 9, 28),\n",
       "  'SAL': Decimal('1250.00'),\n",
       "  'COMM': Decimal('1400.00'),\n",
       "  'DEPTNO': Decimal('30')},\n",
       " {'EMPNO': Decimal('7698'),\n",
       "  'ENAME': 'BLAKE',\n",
       "  'JOB': 'MANAGER',\n",
       "  'MGR': Decimal('7839'),\n",
       "  'HIREDATE': datetime.date(1981, 5, 1),\n",
       "  'SAL': Decimal('2850.00'),\n",
       "  'COMM': None,\n",
       "  'DEPTNO': Decimal('30')},\n",
       " {'EMPNO': Decimal('7782'),\n",
       "  'ENAME': 'CLARK',\n",
       "  'JOB': 'MANAGER',\n",
       "  'MGR': Decimal('7839'),\n",
       "  'HIREDATE': datetime.date(1981, 6, 9),\n",
       "  'SAL': Decimal('2450.00'),\n",
       "  'COMM': None,\n",
       "  'DEPTNO': Decimal('10')},\n",
       " {'EMPNO': Decimal('7788'),\n",
       "  'ENAME': 'SCOTT',\n",
       "  'JOB': 'ANALYST',\n",
       "  'MGR': Decimal('7566'),\n",
       "  'HIREDATE': datetime.date(1987, 6, 28),\n",
       "  'SAL': Decimal('3000.00'),\n",
       "  'COMM': None,\n",
       "  'DEPTNO': Decimal('20')},\n",
       " {'EMPNO': Decimal('7839'),\n",
       "  'ENAME': 'KING',\n",
       "  'JOB': 'PRESIDENT',\n",
       "  'MGR': None,\n",
       "  'HIREDATE': datetime.date(1981, 11, 17),\n",
       "  'SAL': Decimal('5000.00'),\n",
       "  'COMM': None,\n",
       "  'DEPTNO': Decimal('10')},\n",
       " {'EMPNO': Decimal('7844'),\n",
       "  'ENAME': 'TURNER',\n",
       "  'JOB': 'SALESMAN',\n",
       "  'MGR': Decimal('7698'),\n",
       "  'HIREDATE': datetime.date(1981, 9, 8),\n",
       "  'SAL': Decimal('1500.00'),\n",
       "  'COMM': Decimal('0.00'),\n",
       "  'DEPTNO': Decimal('30')},\n",
       " {'EMPNO': Decimal('7876'),\n",
       "  'ENAME': 'ADAMS',\n",
       "  'JOB': 'CLERK',\n",
       "  'MGR': Decimal('7788'),\n",
       "  'HIREDATE': datetime.date(1987, 7, 13),\n",
       "  'SAL': Decimal('1100.00'),\n",
       "  'COMM': None,\n",
       "  'DEPTNO': Decimal('20')},\n",
       " {'EMPNO': Decimal('7900'),\n",
       "  'ENAME': 'JAMES',\n",
       "  'JOB': 'CLERK',\n",
       "  'MGR': Decimal('7698'),\n",
       "  'HIREDATE': datetime.date(1981, 12, 3),\n",
       "  'SAL': Decimal('950.00'),\n",
       "  'COMM': None,\n",
       "  'DEPTNO': Decimal('30')},\n",
       " {'EMPNO': Decimal('7902'),\n",
       "  'ENAME': 'FORD',\n",
       "  'JOB': 'ANALYST',\n",
       "  'MGR': Decimal('7566'),\n",
       "  'HIREDATE': datetime.date(1981, 12, 3),\n",
       "  'SAL': Decimal('3000.00'),\n",
       "  'COMM': None,\n",
       "  'DEPTNO': Decimal('20')},\n",
       " {'EMPNO': Decimal('7934'),\n",
       "  'ENAME': 'MILLER',\n",
       "  'JOB': 'CLERK',\n",
       "  'MGR': Decimal('7782'),\n",
       "  'HIREDATE': datetime.date(1982, 1, 23),\n",
       "  'SAL': Decimal('1300.00'),\n",
       "  'COMM': None,\n",
       "  'DEPTNO': Decimal('10')}]"
      ]
     },
     "execution_count": 13,
     "metadata": {},
     "output_type": "execute_result"
    }
   ],
   "source": [
    "sql = \"\"\"\n",
    "        SELECT * FROM emp\n",
    "\"\"\"\n",
    "\n",
    "result = _db._executeAll(sql)\n",
    "result"
   ]
  },
  {
   "cell_type": "code",
   "execution_count": 14,
   "metadata": {},
   "outputs": [
    {
     "data": {
      "text/plain": [
       "{'_id': ObjectId('6232b721c3d2aaebd5167815'),\n",
       " 'EMPNO': '7369',\n",
       " 'ENAME': 'SMITH',\n",
       " 'JOB': 'CLERK',\n",
       " 'MGR': '7902',\n",
       " 'HIREDATE': '1980-12-17',\n",
       " 'SAL': '800.00',\n",
       " 'DEPTNO': '20'}"
      ]
     },
     "execution_count": 14,
     "metadata": {},
     "output_type": "execute_result"
    }
   ],
   "source": [
    "db.emp.find_one()"
   ]
  },
  {
   "cell_type": "code",
   "execution_count": 15,
   "metadata": {},
   "outputs": [
    {
     "data": {
      "text/plain": [
       "[{'_id': ObjectId('6232b721c3d2aaebd5167815'),\n",
       "  'EMPNO': '7369',\n",
       "  'ENAME': 'SMITH',\n",
       "  'JOB': 'CLERK',\n",
       "  'MGR': '7902',\n",
       "  'HIREDATE': '1980-12-17',\n",
       "  'SAL': '800.00',\n",
       "  'DEPTNO': '20'}]"
      ]
     },
     "execution_count": 15,
     "metadata": {},
     "output_type": "execute_result"
    }
   ],
   "source": [
    "list(db.emp.find(\n",
    "    {\n",
    "        \"ENAME\" : \"SMITH\"\n",
    "    }\n",
    "\n",
    ")\n",
    ")\n",
    "### SELECT * FROM emp WHERE ENAME = \"SMITH\" 랑 같은 내용이다.\n"
   ]
  },
  {
   "cell_type": "code",
   "execution_count": 16,
   "metadata": {},
   "outputs": [
    {
     "name": "stdout",
     "output_type": "stream",
     "text": [
      "{'_id': ObjectId('6232b721c3d2aaebd5167815'), 'EMPNO': '7369', 'ENAME': 'SMITH', 'JOB': 'CLERK', 'MGR': '7902', 'HIREDATE': '1980-12-17', 'SAL': '800.00', 'DEPTNO': '20'}\n",
      "{'_id': ObjectId('6232b721c3d2aaebd5167816'), 'EMPNO': '7499', 'ENAME': 'ALLEN', 'JOB': 'SALESMAN', 'MGR': '7698', 'HIREDATE': '1981-02-20', 'SAL': '1600.00', 'COMM': '300.00', 'DEPTNO': '30'}\n",
      "{'_id': ObjectId('6232b721c3d2aaebd5167817'), 'EMPNO': '7521', 'ENAME': 'WARD', 'JOB': 'SALESMAN', 'MGR': '7698', 'HIREDATE': '1981-02-22', 'SAL': '1250.00', 'COMM': '500.00', 'DEPTNO': '30'}\n",
      "{'_id': ObjectId('6232b721c3d2aaebd5167818'), 'EMPNO': '7566', 'ENAME': 'JONES', 'JOB': 'MANAGER', 'MGR': '7839', 'HIREDATE': '1981-04-02', 'SAL': '2975.00', 'DEPTNO': '20'}\n",
      "{'_id': ObjectId('6232b721c3d2aaebd5167819'), 'EMPNO': '7654', 'ENAME': 'MARTIN', 'JOB': 'SALESMAN', 'MGR': '7698', 'HIREDATE': '1981-09-28', 'SAL': '1250.00', 'COMM': '1400.00', 'DEPTNO': '30'}\n",
      "{'_id': ObjectId('6232b721c3d2aaebd516781a'), 'EMPNO': '7698', 'ENAME': 'BLAKE', 'JOB': 'MANAGER', 'MGR': '7839', 'HIREDATE': '1981-05-01', 'SAL': '2850.00', 'DEPTNO': '30'}\n",
      "{'_id': ObjectId('6232b721c3d2aaebd516781b'), 'EMPNO': '7782', 'ENAME': 'CLARK', 'JOB': 'MANAGER', 'MGR': '7839', 'HIREDATE': '1981-06-09', 'SAL': '2450.00', 'DEPTNO': '10'}\n",
      "{'_id': ObjectId('6232b721c3d2aaebd516781c'), 'EMPNO': '7788', 'ENAME': 'SCOTT', 'JOB': 'ANALYST', 'MGR': '7566', 'HIREDATE': '1987-06-28', 'SAL': '3000.00', 'DEPTNO': '20'}\n",
      "{'_id': ObjectId('6232b721c3d2aaebd516781d'), 'EMPNO': '7839', 'ENAME': 'KING', 'JOB': 'PRESIDENT', 'HIREDATE': '1981-11-17', 'SAL': '5000.00', 'DEPTNO': '10'}\n",
      "{'_id': ObjectId('6232b721c3d2aaebd516781e'), 'EMPNO': '7844', 'ENAME': 'TURNER', 'JOB': 'SALESMAN', 'MGR': '7698', 'HIREDATE': '1981-09-08', 'SAL': '1500.00', 'COMM': '0.00', 'DEPTNO': '30'}\n",
      "{'_id': ObjectId('6232b721c3d2aaebd516781f'), 'EMPNO': '7876', 'ENAME': 'ADAMS', 'JOB': 'CLERK', 'MGR': '7788', 'HIREDATE': '1987-07-13', 'SAL': '1100.00', 'DEPTNO': '20'}\n",
      "{'_id': ObjectId('6232b721c3d2aaebd5167820'), 'EMPNO': '7900', 'ENAME': 'JAMES', 'JOB': 'CLERK', 'MGR': '7698', 'HIREDATE': '1981-12-03', 'SAL': '950.00', 'DEPTNO': '30'}\n",
      "{'_id': ObjectId('6232b721c3d2aaebd5167821'), 'EMPNO': '7902', 'ENAME': 'FORD', 'JOB': 'ANALYST', 'MGR': '7566', 'HIREDATE': '1981-12-03', 'SAL': '3000.00', 'DEPTNO': '20'}\n",
      "{'_id': ObjectId('6232b721c3d2aaebd5167822'), 'EMPNO': '7934', 'ENAME': 'MILLER', 'JOB': 'CLERK', 'MGR': '7782', 'HIREDATE': '1982-01-23', 'SAL': '1300.00', 'DEPTNO': '10'}\n"
     ]
    }
   ],
   "source": [
    "result = db.emp.find()\n",
    "\n",
    "for list in result:\n",
    "    print(list)"
   ]
  },
  {
   "cell_type": "code",
   "execution_count": null,
   "metadata": {},
   "outputs": [],
   "source": [
    "### emp collection\n",
    "### key 값이 EMPNO, ENAME, DEPTNO만 출력이 되도록 코드를 작성"
   ]
  },
  {
   "cell_type": "code",
   "execution_count": 21,
   "metadata": {},
   "outputs": [
    {
     "name": "stdout",
     "output_type": "stream",
     "text": [
      "{'_id': ObjectId('6232b721c3d2aaebd5167815'), 'ENAME': 'SMITH', 'DEPTNO': '20'}\n",
      "{'_id': ObjectId('6232b721c3d2aaebd5167816'), 'ENAME': 'ALLEN', 'DEPTNO': '30'}\n",
      "{'_id': ObjectId('6232b721c3d2aaebd5167817'), 'ENAME': 'WARD', 'DEPTNO': '30'}\n",
      "{'_id': ObjectId('6232b721c3d2aaebd5167818'), 'ENAME': 'JONES', 'DEPTNO': '20'}\n",
      "{'_id': ObjectId('6232b721c3d2aaebd5167819'), 'ENAME': 'MARTIN', 'DEPTNO': '30'}\n",
      "{'_id': ObjectId('6232b721c3d2aaebd516781a'), 'ENAME': 'BLAKE', 'DEPTNO': '30'}\n",
      "{'_id': ObjectId('6232b721c3d2aaebd516781b'), 'ENAME': 'CLARK', 'DEPTNO': '10'}\n",
      "{'_id': ObjectId('6232b721c3d2aaebd516781c'), 'ENAME': 'SCOTT', 'DEPTNO': '20'}\n",
      "{'_id': ObjectId('6232b721c3d2aaebd516781d'), 'ENAME': 'KING', 'DEPTNO': '10'}\n",
      "{'_id': ObjectId('6232b721c3d2aaebd516781e'), 'ENAME': 'TURNER', 'DEPTNO': '30'}\n",
      "{'_id': ObjectId('6232b721c3d2aaebd516781f'), 'ENAME': 'ADAMS', 'DEPTNO': '20'}\n",
      "{'_id': ObjectId('6232b721c3d2aaebd5167820'), 'ENAME': 'JAMES', 'DEPTNO': '30'}\n",
      "{'_id': ObjectId('6232b721c3d2aaebd5167821'), 'ENAME': 'FORD', 'DEPTNO': '20'}\n",
      "{'_id': ObjectId('6232b721c3d2aaebd5167822'), 'ENAME': 'MILLER', 'DEPTNO': '10'}\n"
     ]
    }
   ],
   "source": [
    "result = db.emp.find(\n",
    "    {},                     ### WHERE 절\n",
    "    {\"EMPO\" : 1, \"ENAME\" : 1, \"DEPTNO\" : 1}                      ### COLUMN 절\n",
    ")\n",
    "for list in result:\n",
    "    print(list)\n",
    "\n",
    "### SELECT EMPNO, ENAME, DEPTNO FROM emp"
   ]
  },
  {
   "cell_type": "code",
   "execution_count": 24,
   "metadata": {},
   "outputs": [
    {
     "name": "stdout",
     "output_type": "stream",
     "text": [
      "{'_id': ObjectId('6232c6a7c3d2aaebd5167826'), 'EMPNO': 7566, 'ENAME': 'JONES', 'JOB': 'MANAGER', 'MGR': 7839, 'HIREDATE': '1981-04-02', 'SAL': 2975.0, 'DEPTNO': 20}\n",
      "{'_id': ObjectId('6232c6a7c3d2aaebd5167828'), 'EMPNO': 7698, 'ENAME': 'BLAKE', 'JOB': 'MANAGER', 'MGR': 7839, 'HIREDATE': '1981-05-01', 'SAL': 2850.0, 'DEPTNO': 30}\n",
      "{'_id': ObjectId('6232c6a7c3d2aaebd5167829'), 'EMPNO': 7782, 'ENAME': 'CLARK', 'JOB': 'MANAGER', 'MGR': 7839, 'HIREDATE': '1981-06-09', 'SAL': 2450.0, 'DEPTNO': 10}\n",
      "{'_id': ObjectId('6232c6a7c3d2aaebd516782a'), 'EMPNO': 7788, 'ENAME': 'SCOTT', 'JOB': 'ANALYST', 'MGR': 7566, 'HIREDATE': '1987-06-28', 'SAL': 3000.0, 'DEPTNO': 20}\n",
      "{'_id': ObjectId('6232c6a7c3d2aaebd516782b'), 'EMPNO': 7839, 'ENAME': 'KING', 'JOB': 'PRESIDENT', 'HIREDATE': '1981-11-17', 'SAL': 5000.0, 'DEPTNO': 10}\n",
      "{'_id': ObjectId('6232c6a7c3d2aaebd516782f'), 'EMPNO': 7902, 'ENAME': 'FORD', 'JOB': 'ANALYST', 'MGR': 7566, 'HIREDATE': '1981-12-03', 'SAL': 3000.0, 'DEPTNO': 20}\n"
     ]
    }
   ],
   "source": [
    "# 급여가 2000보다 큰 데이터 값을 출력\n",
    "result = db.emp.find(\n",
    "    {\n",
    "        \"SAL\" : {\"$gt\" : 2000}\n",
    "    }\n",
    ")\n",
    "\n",
    "for list in result:\n",
    "    print(list)\n",
    "\n",
    "### SELECT * FROM emp WHERE SAL > 2000"
   ]
  },
  {
   "cell_type": "code",
   "execution_count": 25,
   "metadata": {},
   "outputs": [
    {
     "name": "stdout",
     "output_type": "stream",
     "text": [
      "{'DEPTNO': '20',\n",
      " 'EMPNO': '7876',\n",
      " 'ENAME': 'ADAMS',\n",
      " 'HIREDATE': '1987-07-13',\n",
      " 'JOB': 'CLERK',\n",
      " 'MGR': '7788',\n",
      " 'SAL': '1100.00',\n",
      " '_id': ObjectId('6232b721c3d2aaebd516781f')}\n",
      "{'DEPTNO': 20,\n",
      " 'EMPNO': 7876,\n",
      " 'ENAME': 'ADAMS',\n",
      " 'HIREDATE': '1987-07-13',\n",
      " 'JOB': 'CLERK',\n",
      " 'MGR': 7788,\n",
      " 'SAL': 1100.0,\n",
      " '_id': ObjectId('6232c6a7c3d2aaebd516782d')}\n",
      "{'COMM': '300.00',\n",
      " 'DEPTNO': '30',\n",
      " 'EMPNO': '7499',\n",
      " 'ENAME': 'ALLEN',\n",
      " 'HIREDATE': '1981-02-20',\n",
      " 'JOB': 'SALESMAN',\n",
      " 'MGR': '7698',\n",
      " 'SAL': '1600.00',\n",
      " '_id': ObjectId('6232b721c3d2aaebd5167816')}\n",
      "{'COMM': 300.0,\n",
      " 'DEPTNO': 30,\n",
      " 'EMPNO': 7499,\n",
      " 'ENAME': 'ALLEN',\n",
      " 'HIREDATE': '1981-02-20',\n",
      " 'JOB': 'SALESMAN',\n",
      " 'MGR': 7698,\n",
      " 'SAL': 1600.0,\n",
      " '_id': ObjectId('6232c6a7c3d2aaebd5167824')}\n",
      "{'DEPTNO': '30',\n",
      " 'EMPNO': '7698',\n",
      " 'ENAME': 'BLAKE',\n",
      " 'HIREDATE': '1981-05-01',\n",
      " 'JOB': 'MANAGER',\n",
      " 'MGR': '7839',\n",
      " 'SAL': '2850.00',\n",
      " '_id': ObjectId('6232b721c3d2aaebd516781a')}\n",
      "{'DEPTNO': 30,\n",
      " 'EMPNO': 7698,\n",
      " 'ENAME': 'BLAKE',\n",
      " 'HIREDATE': '1981-05-01',\n",
      " 'JOB': 'MANAGER',\n",
      " 'MGR': 7839,\n",
      " 'SAL': 2850.0,\n",
      " '_id': ObjectId('6232c6a7c3d2aaebd5167828')}\n",
      "{'DEPTNO': '10',\n",
      " 'EMPNO': '7782',\n",
      " 'ENAME': 'CLARK',\n",
      " 'HIREDATE': '1981-06-09',\n",
      " 'JOB': 'MANAGER',\n",
      " 'MGR': '7839',\n",
      " 'SAL': '2450.00',\n",
      " '_id': ObjectId('6232b721c3d2aaebd516781b')}\n",
      "{'DEPTNO': 10,\n",
      " 'EMPNO': 7782,\n",
      " 'ENAME': 'CLARK',\n",
      " 'HIREDATE': '1981-06-09',\n",
      " 'JOB': 'MANAGER',\n",
      " 'MGR': 7839,\n",
      " 'SAL': 2450.0,\n",
      " '_id': ObjectId('6232c6a7c3d2aaebd5167829')}\n",
      "{'DEPTNO': '20',\n",
      " 'EMPNO': '7902',\n",
      " 'ENAME': 'FORD',\n",
      " 'HIREDATE': '1981-12-03',\n",
      " 'JOB': 'ANALYST',\n",
      " 'MGR': '7566',\n",
      " 'SAL': '3000.00',\n",
      " '_id': ObjectId('6232b721c3d2aaebd5167821')}\n",
      "{'DEPTNO': 20,\n",
      " 'EMPNO': 7902,\n",
      " 'ENAME': 'FORD',\n",
      " 'HIREDATE': '1981-12-03',\n",
      " 'JOB': 'ANALYST',\n",
      " 'MGR': 7566,\n",
      " 'SAL': 3000.0,\n",
      " '_id': ObjectId('6232c6a7c3d2aaebd516782f')}\n",
      "{'DEPTNO': '30',\n",
      " 'EMPNO': '7900',\n",
      " 'ENAME': 'JAMES',\n",
      " 'HIREDATE': '1981-12-03',\n",
      " 'JOB': 'CLERK',\n",
      " 'MGR': '7698',\n",
      " 'SAL': '950.00',\n",
      " '_id': ObjectId('6232b721c3d2aaebd5167820')}\n",
      "{'DEPTNO': 30,\n",
      " 'EMPNO': 7900,\n",
      " 'ENAME': 'JAMES',\n",
      " 'HIREDATE': '1981-12-03',\n",
      " 'JOB': 'CLERK',\n",
      " 'MGR': 7698,\n",
      " 'SAL': 950.0,\n",
      " '_id': ObjectId('6232c6a7c3d2aaebd516782e')}\n",
      "{'DEPTNO': '20',\n",
      " 'EMPNO': '7566',\n",
      " 'ENAME': 'JONES',\n",
      " 'HIREDATE': '1981-04-02',\n",
      " 'JOB': 'MANAGER',\n",
      " 'MGR': '7839',\n",
      " 'SAL': '2975.00',\n",
      " '_id': ObjectId('6232b721c3d2aaebd5167818')}\n",
      "{'DEPTNO': 20,\n",
      " 'EMPNO': 7566,\n",
      " 'ENAME': 'JONES',\n",
      " 'HIREDATE': '1981-04-02',\n",
      " 'JOB': 'MANAGER',\n",
      " 'MGR': 7839,\n",
      " 'SAL': 2975.0,\n",
      " '_id': ObjectId('6232c6a7c3d2aaebd5167826')}\n",
      "{'DEPTNO': '10',\n",
      " 'EMPNO': '7839',\n",
      " 'ENAME': 'KING',\n",
      " 'HIREDATE': '1981-11-17',\n",
      " 'JOB': 'PRESIDENT',\n",
      " 'SAL': '5000.00',\n",
      " '_id': ObjectId('6232b721c3d2aaebd516781d')}\n",
      "{'DEPTNO': 10,\n",
      " 'EMPNO': 7839,\n",
      " 'ENAME': 'KING',\n",
      " 'HIREDATE': '1981-11-17',\n",
      " 'JOB': 'PRESIDENT',\n",
      " 'SAL': 5000.0,\n",
      " '_id': ObjectId('6232c6a7c3d2aaebd516782b')}\n",
      "{'COMM': '1400.00',\n",
      " 'DEPTNO': '30',\n",
      " 'EMPNO': '7654',\n",
      " 'ENAME': 'MARTIN',\n",
      " 'HIREDATE': '1981-09-28',\n",
      " 'JOB': 'SALESMAN',\n",
      " 'MGR': '7698',\n",
      " 'SAL': '1250.00',\n",
      " '_id': ObjectId('6232b721c3d2aaebd5167819')}\n",
      "{'COMM': 1400.0,\n",
      " 'DEPTNO': 30,\n",
      " 'EMPNO': 7654,\n",
      " 'ENAME': 'MARTIN',\n",
      " 'HIREDATE': '1981-09-28',\n",
      " 'JOB': 'SALESMAN',\n",
      " 'MGR': 7698,\n",
      " 'SAL': 1250.0,\n",
      " '_id': ObjectId('6232c6a7c3d2aaebd5167827')}\n",
      "{'DEPTNO': '10',\n",
      " 'EMPNO': '7934',\n",
      " 'ENAME': 'MILLER',\n",
      " 'HIREDATE': '1982-01-23',\n",
      " 'JOB': 'CLERK',\n",
      " 'MGR': '7782',\n",
      " 'SAL': '1300.00',\n",
      " '_id': ObjectId('6232b721c3d2aaebd5167822')}\n",
      "{'DEPTNO': 10,\n",
      " 'EMPNO': 7934,\n",
      " 'ENAME': 'MILLER',\n",
      " 'HIREDATE': '1982-01-23',\n",
      " 'JOB': 'CLERK',\n",
      " 'MGR': 7782,\n",
      " 'SAL': 1300.0,\n",
      " '_id': ObjectId('6232c6a7c3d2aaebd5167830')}\n",
      "{'DEPTNO': '20',\n",
      " 'EMPNO': '7788',\n",
      " 'ENAME': 'SCOTT',\n",
      " 'HIREDATE': '1987-06-28',\n",
      " 'JOB': 'ANALYST',\n",
      " 'MGR': '7566',\n",
      " 'SAL': '3000.00',\n",
      " '_id': ObjectId('6232b721c3d2aaebd516781c')}\n",
      "{'DEPTNO': 20,\n",
      " 'EMPNO': 7788,\n",
      " 'ENAME': 'SCOTT',\n",
      " 'HIREDATE': '1987-06-28',\n",
      " 'JOB': 'ANALYST',\n",
      " 'MGR': 7566,\n",
      " 'SAL': 3000.0,\n",
      " '_id': ObjectId('6232c6a7c3d2aaebd516782a')}\n",
      "{'DEPTNO': '20',\n",
      " 'EMPNO': '7369',\n",
      " 'ENAME': 'SMITH',\n",
      " 'HIREDATE': '1980-12-17',\n",
      " 'JOB': 'CLERK',\n",
      " 'MGR': '7902',\n",
      " 'SAL': '800.00',\n",
      " '_id': ObjectId('6232b721c3d2aaebd5167815')}\n",
      "{'DEPTNO': 20,\n",
      " 'EMPNO': 7369,\n",
      " 'ENAME': 'SMITH',\n",
      " 'HIREDATE': '1980-12-17',\n",
      " 'JOB': 'CLERK',\n",
      " 'MGR': 7902,\n",
      " 'SAL': 800.0,\n",
      " '_id': ObjectId('6232c6a7c3d2aaebd5167823')}\n",
      "{'COMM': '0.00',\n",
      " 'DEPTNO': '30',\n",
      " 'EMPNO': '7844',\n",
      " 'ENAME': 'TURNER',\n",
      " 'HIREDATE': '1981-09-08',\n",
      " 'JOB': 'SALESMAN',\n",
      " 'MGR': '7698',\n",
      " 'SAL': '1500.00',\n",
      " '_id': ObjectId('6232b721c3d2aaebd516781e')}\n",
      "{'COMM': 0.0,\n",
      " 'DEPTNO': 30,\n",
      " 'EMPNO': 7844,\n",
      " 'ENAME': 'TURNER',\n",
      " 'HIREDATE': '1981-09-08',\n",
      " 'JOB': 'SALESMAN',\n",
      " 'MGR': 7698,\n",
      " 'SAL': 1500.0,\n",
      " '_id': ObjectId('6232c6a7c3d2aaebd516782c')}\n",
      "{'COMM': '500.00',\n",
      " 'DEPTNO': '30',\n",
      " 'EMPNO': '7521',\n",
      " 'ENAME': 'WARD',\n",
      " 'HIREDATE': '1981-02-22',\n",
      " 'JOB': 'SALESMAN',\n",
      " 'MGR': '7698',\n",
      " 'SAL': '1250.00',\n",
      " '_id': ObjectId('6232b721c3d2aaebd5167817')}\n",
      "{'COMM': 500.0,\n",
      " 'DEPTNO': 30,\n",
      " 'EMPNO': 7521,\n",
      " 'ENAME': 'WARD',\n",
      " 'HIREDATE': '1981-02-22',\n",
      " 'JOB': 'SALESMAN',\n",
      " 'MGR': 7698,\n",
      " 'SAL': 1250.0,\n",
      " '_id': ObjectId('6232c6a7c3d2aaebd5167825')}\n"
     ]
    }
   ],
   "source": [
    "import pprint\n",
    "result = db.emp.find().sort(\"ENAME\")\n",
    "\n",
    "for list in result:\n",
    "    pprint.pprint(list)\n",
    "\n",
    "### SELECT * FROM emp ORDER BY \"ENAME\""
   ]
  },
  {
   "cell_type": "code",
   "execution_count": 26,
   "metadata": {},
   "outputs": [
    {
     "name": "stdout",
     "output_type": "stream",
     "text": [
      "{'_id': ObjectId('6232c6a7c3d2aaebd5167826'), 'EMPNO': 7566, 'ENAME': 'JONES', 'JOB': 'MANAGER', 'MGR': 7839, 'HIREDATE': '1981-04-02', 'SAL': 2975.0, 'DEPTNO': 20}\n",
      "{'_id': ObjectId('6232c6a7c3d2aaebd5167828'), 'EMPNO': 7698, 'ENAME': 'BLAKE', 'JOB': 'MANAGER', 'MGR': 7839, 'HIREDATE': '1981-05-01', 'SAL': 2850.0, 'DEPTNO': 30}\n",
      "{'_id': ObjectId('6232c6a7c3d2aaebd5167829'), 'EMPNO': 7782, 'ENAME': 'CLARK', 'JOB': 'MANAGER', 'MGR': 7839, 'HIREDATE': '1981-06-09', 'SAL': 2450.0, 'DEPTNO': 10}\n",
      "{'_id': ObjectId('6232c6a7c3d2aaebd516782a'), 'EMPNO': 7788, 'ENAME': 'SCOTT', 'JOB': 'ANALYST', 'MGR': 7566, 'HIREDATE': '1987-06-28', 'SAL': 3000.0, 'DEPTNO': 20}\n",
      "{'_id': ObjectId('6232c6a7c3d2aaebd516782b'), 'EMPNO': 7839, 'ENAME': 'KING', 'JOB': 'PRESIDENT', 'HIREDATE': '1981-11-17', 'SAL': 5000.0, 'DEPTNO': 10}\n",
      "{'_id': ObjectId('6232c6a7c3d2aaebd516782f'), 'EMPNO': 7902, 'ENAME': 'FORD', 'JOB': 'ANALYST', 'MGR': 7566, 'HIREDATE': '1981-12-03', 'SAL': 3000.0, 'DEPTNO': 20}\n"
     ]
    }
   ],
   "source": [
    "# 급여가 2450보다 크거나 같은 데이터 값을 출력\n",
    "# 작은 값을 출력하고 싶으면 $lt, 작거나 같은값이라면 $lte\n",
    "result = db.emp.find(\n",
    "    {\n",
    "        \"SAL\" : {\"$gte\" : 2450}\n",
    "    }\n",
    ")\n",
    "\n",
    "for list in result:\n",
    "    print(list)\n",
    "\n",
    "### SELECT * FROM emp WHERE SAL >= 2450"
   ]
  },
  {
   "cell_type": "code",
   "execution_count": 27,
   "metadata": {},
   "outputs": [
    {
     "name": "stdout",
     "output_type": "stream",
     "text": [
      "{'_id': ObjectId('6232b721c3d2aaebd5167815'), 'EMPNO': '7369', 'ENAME': 'SMITH', 'JOB': 'CLERK', 'MGR': '7902', 'HIREDATE': '1980-12-17', 'SAL': '800.00', 'DEPTNO': '20'}\n",
      "{'_id': ObjectId('6232b721c3d2aaebd5167816'), 'EMPNO': '7499', 'ENAME': 'ALLEN', 'JOB': 'SALESMAN', 'MGR': '7698', 'HIREDATE': '1981-02-20', 'SAL': '1600.00', 'COMM': '300.00', 'DEPTNO': '30'}\n",
      "{'_id': ObjectId('6232c6a7c3d2aaebd5167823'), 'EMPNO': 7369, 'ENAME': 'SMITH', 'JOB': 'CLERK', 'MGR': 7902, 'HIREDATE': '1980-12-17', 'SAL': 800.0, 'DEPTNO': 20}\n",
      "{'_id': ObjectId('6232c6a7c3d2aaebd5167824'), 'EMPNO': 7499, 'ENAME': 'ALLEN', 'JOB': 'SALESMAN', 'MGR': 7698, 'HIREDATE': '1981-02-20', 'SAL': 1600.0, 'COMM': 300.0, 'DEPTNO': 30}\n"
     ]
    }
   ],
   "source": [
    "# SELECT * FROM emp WHERE ENAME = SMITH OR ENAME = ALLEN\n",
    "result = db.emp.find(\n",
    "    {\n",
    "        \"$or\" : [\n",
    "            {\"ENAME\" : \"SMITH\"}, {\"ENAME\" : \"ALLEN\"}\n",
    "        ]\n",
    "    }\n",
    ")\n",
    "for list in result:\n",
    "    print(list)"
   ]
  },
  {
   "cell_type": "code",
   "execution_count": 28,
   "metadata": {},
   "outputs": [
    {
     "name": "stdout",
     "output_type": "stream",
     "text": [
      "{'_id': ObjectId('6232b721c3d2aaebd5167815'), 'EMPNO': '7369', 'ENAME': 'SMITH', 'JOB': 'CLERK', 'MGR': '7902', 'HIREDATE': '1980-12-17', 'SAL': '800.00', 'DEPTNO': '20'}\n",
      "{'_id': ObjectId('6232c6a7c3d2aaebd5167823'), 'EMPNO': 7369, 'ENAME': 'SMITH', 'JOB': 'CLERK', 'MGR': 7902, 'HIREDATE': '1980-12-17', 'SAL': 800.0, 'DEPTNO': 20}\n"
     ]
    }
   ],
   "source": [
    "# SELECT *FROM emp WHERE ENAME = SMITH AND JOB = CLERK\n",
    "result = db.emp.find(\n",
    "    {\n",
    "        \"ENAME\" : \"SMITH\",\n",
    "        \"JOB\" : \"CLERK\"\n",
    "    }\n",
    ")\n",
    "\n",
    "for list in result:\n",
    "    print(list)"
   ]
  },
  {
   "cell_type": "code",
   "execution_count": 36,
   "metadata": {},
   "outputs": [
    {
     "data": {
      "text/html": [
       "<div>\n",
       "<style scoped>\n",
       "    .dataframe tbody tr th:only-of-type {\n",
       "        vertical-align: middle;\n",
       "    }\n",
       "\n",
       "    .dataframe tbody tr th {\n",
       "        vertical-align: top;\n",
       "    }\n",
       "\n",
       "    .dataframe thead th {\n",
       "        text-align: right;\n",
       "    }\n",
       "</style>\n",
       "<table border=\"1\" class=\"dataframe\">\n",
       "  <thead>\n",
       "    <tr style=\"text-align: right;\">\n",
       "      <th></th>\n",
       "      <th>EMPNO</th>\n",
       "      <th>ENAME</th>\n",
       "      <th>JOB</th>\n",
       "      <th>MGR</th>\n",
       "      <th>HIREDATE</th>\n",
       "      <th>SAL</th>\n",
       "      <th>DEPTNO</th>\n",
       "    </tr>\n",
       "  </thead>\n",
       "  <tbody>\n",
       "    <tr>\n",
       "      <th>0</th>\n",
       "      <td>7566</td>\n",
       "      <td>JONES</td>\n",
       "      <td>MANAGER</td>\n",
       "      <td>7839</td>\n",
       "      <td>1981-04-02</td>\n",
       "      <td>2975.0</td>\n",
       "      <td>20</td>\n",
       "    </tr>\n",
       "    <tr>\n",
       "      <th>1</th>\n",
       "      <td>7698</td>\n",
       "      <td>BLAKE</td>\n",
       "      <td>MANAGER</td>\n",
       "      <td>7839</td>\n",
       "      <td>1981-05-01</td>\n",
       "      <td>2850.0</td>\n",
       "      <td>30</td>\n",
       "    </tr>\n",
       "    <tr>\n",
       "      <th>2</th>\n",
       "      <td>7782</td>\n",
       "      <td>CLARK</td>\n",
       "      <td>MANAGER</td>\n",
       "      <td>7839</td>\n",
       "      <td>1981-06-09</td>\n",
       "      <td>2450.0</td>\n",
       "      <td>10</td>\n",
       "    </tr>\n",
       "    <tr>\n",
       "      <th>3</th>\n",
       "      <td>7788</td>\n",
       "      <td>SCOTT</td>\n",
       "      <td>ANALYST</td>\n",
       "      <td>7566</td>\n",
       "      <td>1987-06-28</td>\n",
       "      <td>3000.0</td>\n",
       "      <td>20</td>\n",
       "    </tr>\n",
       "    <tr>\n",
       "      <th>4</th>\n",
       "      <td>7902</td>\n",
       "      <td>FORD</td>\n",
       "      <td>ANALYST</td>\n",
       "      <td>7566</td>\n",
       "      <td>1981-12-03</td>\n",
       "      <td>3000.0</td>\n",
       "      <td>20</td>\n",
       "    </tr>\n",
       "  </tbody>\n",
       "</table>\n",
       "</div>"
      ],
      "text/plain": [
       "   EMPNO  ENAME      JOB   MGR    HIREDATE     SAL  DEPTNO\n",
       "0   7566  JONES  MANAGER  7839  1981-04-02  2975.0      20\n",
       "1   7698  BLAKE  MANAGER  7839  1981-05-01  2850.0      30\n",
       "2   7782  CLARK  MANAGER  7839  1981-06-09  2450.0      10\n",
       "3   7788  SCOTT  ANALYST  7566  1987-06-28  3000.0      20\n",
       "4   7902   FORD  ANALYST  7566  1981-12-03  3000.0      20"
      ]
     },
     "execution_count": 36,
     "metadata": {},
     "output_type": "execute_result"
    }
   ],
   "source": [
    "# SELECT * FROM emp WHERE SAL >=2000 AND SAL < 4000\n",
    "import pandas as pd\n",
    "result = db.emp.find(\n",
    "    {\n",
    "        \"SAL\" :{\n",
    "            \"$gte\" : 2000,\n",
    "            \"$lt\" : 4000\n",
    "        }\n",
    "    }, {\"_id\" : 0} ### _id 값이 보기싫어서 지워주기\n",
    ")\n",
    "\n",
    "pd.DataFrame(result)"
   ]
  },
  {
   "cell_type": "code",
   "execution_count": 55,
   "metadata": {},
   "outputs": [
    {
     "data": {
      "text/html": [
       "<div>\n",
       "<style scoped>\n",
       "    .dataframe tbody tr th:only-of-type {\n",
       "        vertical-align: middle;\n",
       "    }\n",
       "\n",
       "    .dataframe tbody tr th {\n",
       "        vertical-align: top;\n",
       "    }\n",
       "\n",
       "    .dataframe thead th {\n",
       "        text-align: right;\n",
       "    }\n",
       "</style>\n",
       "<table border=\"1\" class=\"dataframe\">\n",
       "  <thead>\n",
       "    <tr style=\"text-align: right;\">\n",
       "      <th></th>\n",
       "      <th>_id</th>\n",
       "      <th>EMPNO</th>\n",
       "      <th>ENAME</th>\n",
       "      <th>JOB</th>\n",
       "      <th>MGR</th>\n",
       "      <th>HIREDATE</th>\n",
       "      <th>SAL</th>\n",
       "      <th>DEPTNO</th>\n",
       "    </tr>\n",
       "  </thead>\n",
       "  <tbody>\n",
       "    <tr>\n",
       "      <th>0</th>\n",
       "      <td>6232b721c3d2aaebd5167818</td>\n",
       "      <td>7566</td>\n",
       "      <td>JONES</td>\n",
       "      <td>MANAGER</td>\n",
       "      <td>7839</td>\n",
       "      <td>1981-04-02</td>\n",
       "      <td>2975.00</td>\n",
       "      <td>20</td>\n",
       "    </tr>\n",
       "    <tr>\n",
       "      <th>1</th>\n",
       "      <td>6232b721c3d2aaebd516781f</td>\n",
       "      <td>7876</td>\n",
       "      <td>ADAMS</td>\n",
       "      <td>CLERK</td>\n",
       "      <td>7788</td>\n",
       "      <td>1987-07-13</td>\n",
       "      <td>1100.00</td>\n",
       "      <td>20</td>\n",
       "    </tr>\n",
       "    <tr>\n",
       "      <th>2</th>\n",
       "      <td>6232b721c3d2aaebd5167820</td>\n",
       "      <td>7900</td>\n",
       "      <td>JAMES</td>\n",
       "      <td>CLERK</td>\n",
       "      <td>7698</td>\n",
       "      <td>1981-12-03</td>\n",
       "      <td>950.00</td>\n",
       "      <td>30</td>\n",
       "    </tr>\n",
       "    <tr>\n",
       "      <th>3</th>\n",
       "      <td>6232c6a7c3d2aaebd5167826</td>\n",
       "      <td>7566</td>\n",
       "      <td>JONES</td>\n",
       "      <td>MANAGER</td>\n",
       "      <td>7839</td>\n",
       "      <td>1981-04-02</td>\n",
       "      <td>2975.0</td>\n",
       "      <td>20</td>\n",
       "    </tr>\n",
       "    <tr>\n",
       "      <th>4</th>\n",
       "      <td>6232c6a7c3d2aaebd516782d</td>\n",
       "      <td>7876</td>\n",
       "      <td>ADAMS</td>\n",
       "      <td>CLERK</td>\n",
       "      <td>7788</td>\n",
       "      <td>1987-07-13</td>\n",
       "      <td>1100.0</td>\n",
       "      <td>20</td>\n",
       "    </tr>\n",
       "    <tr>\n",
       "      <th>5</th>\n",
       "      <td>6232c6a7c3d2aaebd516782e</td>\n",
       "      <td>7900</td>\n",
       "      <td>JAMES</td>\n",
       "      <td>CLERK</td>\n",
       "      <td>7698</td>\n",
       "      <td>1981-12-03</td>\n",
       "      <td>950.0</td>\n",
       "      <td>30</td>\n",
       "    </tr>\n",
       "  </tbody>\n",
       "</table>\n",
       "</div>"
      ],
      "text/plain": [
       "                        _id EMPNO  ENAME      JOB   MGR    HIREDATE      SAL  \\\n",
       "0  6232b721c3d2aaebd5167818  7566  JONES  MANAGER  7839  1981-04-02  2975.00   \n",
       "1  6232b721c3d2aaebd516781f  7876  ADAMS    CLERK  7788  1987-07-13  1100.00   \n",
       "2  6232b721c3d2aaebd5167820  7900  JAMES    CLERK  7698  1981-12-03   950.00   \n",
       "3  6232c6a7c3d2aaebd5167826  7566  JONES  MANAGER  7839  1981-04-02   2975.0   \n",
       "4  6232c6a7c3d2aaebd516782d  7876  ADAMS    CLERK  7788  1987-07-13   1100.0   \n",
       "5  6232c6a7c3d2aaebd516782e  7900  JAMES    CLERK  7698  1981-12-03    950.0   \n",
       "\n",
       "  DEPTNO  \n",
       "0     20  \n",
       "1     20  \n",
       "2     30  \n",
       "3     20  \n",
       "4     20  \n",
       "5     30  "
      ]
     },
     "execution_count": 55,
     "metadata": {},
     "output_type": "execute_result"
    }
   ],
   "source": [
    "#SELECT * FROM emp WHERE ENAME LIKE %S%\n",
    "result = db.emp.find(\n",
    "    {\n",
    "        \"ENAME\" : {\n",
    "            \"$regex\" : \"S$\"      ### \"$regex\" : \"^S\"  을 쓰면 제일 앞이 S인 글자를 전부 찾아준다./ \"$regex\" : \"S$\" 를 쓰면 S로 끝나는 글자가 나온다.\n",
    "        }\n",
    "    }\n",
    ")\n",
    "pd.DataFrame(result)"
   ]
  },
  {
   "cell_type": "code",
   "execution_count": null,
   "metadata": {},
   "outputs": [],
   "source": [
    "# SELECT ENAME, JOB, SAL, DEPTNO FROM emp\n",
    "# WHERE SAL > 1250 AND \n",
    "# SAL <= 3000 and\n",
    "# JOB = SALESMAN\n",
    "# ORDER BY ENAME"
   ]
  },
  {
   "cell_type": "code",
   "execution_count": 64,
   "metadata": {},
   "outputs": [
    {
     "data": {
      "text/html": [
       "<div>\n",
       "<style scoped>\n",
       "    .dataframe tbody tr th:only-of-type {\n",
       "        vertical-align: middle;\n",
       "    }\n",
       "\n",
       "    .dataframe tbody tr th {\n",
       "        vertical-align: top;\n",
       "    }\n",
       "\n",
       "    .dataframe thead th {\n",
       "        text-align: right;\n",
       "    }\n",
       "</style>\n",
       "<table border=\"1\" class=\"dataframe\">\n",
       "  <thead>\n",
       "    <tr style=\"text-align: right;\">\n",
       "      <th></th>\n",
       "      <th>ENAME</th>\n",
       "      <th>JOB</th>\n",
       "      <th>SAL</th>\n",
       "      <th>DEPTNO</th>\n",
       "    </tr>\n",
       "  </thead>\n",
       "  <tbody>\n",
       "    <tr>\n",
       "      <th>0</th>\n",
       "      <td>TURNER</td>\n",
       "      <td>SALESMAN</td>\n",
       "      <td>1500.0</td>\n",
       "      <td>30</td>\n",
       "    </tr>\n",
       "    <tr>\n",
       "      <th>1</th>\n",
       "      <td>ALLEN</td>\n",
       "      <td>SALESMAN</td>\n",
       "      <td>1600.0</td>\n",
       "      <td>30</td>\n",
       "    </tr>\n",
       "  </tbody>\n",
       "</table>\n",
       "</div>"
      ],
      "text/plain": [
       "    ENAME       JOB     SAL  DEPTNO\n",
       "0  TURNER  SALESMAN  1500.0      30\n",
       "1   ALLEN  SALESMAN  1600.0      30"
      ]
     },
     "execution_count": 64,
     "metadata": {},
     "output_type": "execute_result"
    }
   ],
   "source": [
    "result = db.emp.find(\n",
    "    {\n",
    "       \"SAL\" :{\n",
    "            \"$gt\" : 1250,\n",
    "            \"$lte\" : 3000\n",
    "        },\n",
    "        \"JOB\" : \"SALESMAN\"\n",
    "    },\n",
    "    {\n",
    "        \"ENAME\" : 1, \"JOB\" : 1, \"SAL\" : 1, \"DEPTNO\" : 1, \"_id\" : 0\n",
    "    }\n",
    ").sort(\"ENAME\", -1)\n",
    "\n",
    "pd.DataFrame(result)"
   ]
  },
  {
   "cell_type": "code",
   "execution_count": null,
   "metadata": {},
   "outputs": [],
   "source": []
  }
 ],
 "metadata": {
  "interpreter": {
   "hash": "8d3a68eede2cceb1eacb5149b1db1c5d1603031fd99060d6db31a21913c926e4"
  },
  "kernelspec": {
   "display_name": "Python 3.10.2 64-bit",
   "language": "python",
   "name": "python3"
  },
  "language_info": {
   "codemirror_mode": {
    "name": "ipython",
    "version": 3
   },
   "file_extension": ".py",
   "mimetype": "text/x-python",
   "name": "python",
   "nbconvert_exporter": "python",
   "pygments_lexer": "ipython3",
   "version": "3.10.2"
  },
  "orig_nbformat": 4
 },
 "nbformat": 4,
 "nbformat_minor": 2
}
