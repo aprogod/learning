{
 "cells": [
  {
   "cell_type": "markdown",
   "id": "2c080b61",
   "metadata": {},
   "source": [
    "### 1 . sklearn.model_selection.KFol\n",
    "### class sklearn.model_selection.KFold(n_splits=5, *, shuffle=False, random_state=None)"
   ]
  },
  {
   "cell_type": "code",
   "execution_count": 34,
   "id": "ddefefc2",
   "metadata": {},
   "outputs": [],
   "source": [
    "from sklearn.datasets import load_iris\n",
    "from sklearn.tree import DecisionTreeClassifier\n",
    "from sklearn.metrics import accuracy_score\n",
    "from sklearn.model_selection import KFold, StratifiedKFold\n",
    "from sklearn.model_selection import GridSearchCV , train_test_split\n",
    "from sklearn.model_selection import cross_val_score, cross_validate\n",
    "from sklearn.linear_model import LogisticRegression\n",
    "\n",
    "import numpy as np\n",
    "import pandas as pd"
   ]
  },
  {
   "cell_type": "code",
   "execution_count": 3,
   "id": "f8659f44",
   "metadata": {},
   "outputs": [
    {
     "name": "stdout",
     "output_type": "stream",
     "text": [
      "붓꽃 데이터 세트 크기: 150\n"
     ]
    }
   ],
   "source": [
    "iris = load_iris()\n",
    "features = iris.data\n",
    "label = iris.target\n",
    "dt_clf = DecisionTreeClassifier(random_state=156)\n",
    "\n",
    "#5개의 폴드 세트로 분리하는 KFold 객채와 폴드 세트별 정확도를 담을 리스트 객체 생성.\n",
    "kfold = KFold(n_splits=5)\n",
    "cv_accuracy = []\n",
    "print('붓꽃 데이터 세트 크기:',features.shape[0])"
   ]
  },
  {
   "cell_type": "code",
   "execution_count": 11,
   "id": "b024ff55",
   "metadata": {},
   "outputs": [
    {
     "name": "stdout",
     "output_type": "stream",
     "text": [
      "\n",
      "#1 교차검증 정확도 : 1.0, 학습 데이터 크기 : 120, 검증 데이터 크기 : 30\n",
      "#1 검증 세트 인덱스 : [ 0  1  2  3  4  5  6  7  8  9 10 11 12 13 14 15 16 17 18 19 20 21 22 23\n",
      " 24 25 26 27 28 29]\n",
      "\n",
      "#2 교차검증 정확도 : 0.9667, 학습 데이터 크기 : 120, 검증 데이터 크기 : 30\n",
      "#2 검증 세트 인덱스 : [30 31 32 33 34 35 36 37 38 39 40 41 42 43 44 45 46 47 48 49 50 51 52 53\n",
      " 54 55 56 57 58 59]\n",
      "\n",
      "#3 교차검증 정확도 : 0.8667, 학습 데이터 크기 : 120, 검증 데이터 크기 : 30\n",
      "#3 검증 세트 인덱스 : [60 61 62 63 64 65 66 67 68 69 70 71 72 73 74 75 76 77 78 79 80 81 82 83\n",
      " 84 85 86 87 88 89]\n",
      "\n",
      "#4 교차검증 정확도 : 0.9333, 학습 데이터 크기 : 120, 검증 데이터 크기 : 30\n",
      "#4 검증 세트 인덱스 : [ 90  91  92  93  94  95  96  97  98  99 100 101 102 103 104 105 106 107\n",
      " 108 109 110 111 112 113 114 115 116 117 118 119]\n",
      "\n",
      "#5 교차검증 정확도 : 0.7333, 학습 데이터 크기 : 120, 검증 데이터 크기 : 30\n",
      "#5 검증 세트 인덱스 : [120 121 122 123 124 125 126 127 128 129 130 131 132 133 134 135 136 137\n",
      " 138 139 140 141 142 143 144 145 146 147 148 149]\n",
      "\n",
      "## 평균 검증 정확도 : 0.9\n"
     ]
    }
   ],
   "source": [
    "n_iter = 0\n",
    "\n",
    "#KFold 객체의 split() 호출하면 폴드 별 학습용, 검증용 테스트의 로우 인덱스를 array로 반환\n",
    "\n",
    "for train_index, test_index in kfold.split(features):\n",
    "    # kfold.split()으로 반환된 인덱스를 이용하여 학습용, 검증용 테스트 데이터 추출\n",
    "    X_train, X_test = features[train_index], features[test_index]\n",
    "    y_train, y_test = label[train_index], label[test_index]\n",
    "    # 학습 및 예측\n",
    "    dt_clf.fit(X_train, y_train)\n",
    "    pred = dt_clf.predict(X_test)\n",
    "    n_iter += 1\n",
    "    # 반복 시 마다 정확도 측정\n",
    "    accuracy = np.round(accuracy_score(y_test,pred),4)\n",
    "    train_size = X_train.shape[0]\n",
    "    test_size = X_test.shape[0]\n",
    "    print(f'\\n#{n_iter} 교차검증 정확도 : {accuracy}, 학습 데이터 크기 : {train_size}, 검증 데이터 크기 : {test_size}')\n",
    "    print(f'#{n_iter} 검증 세트 인덱스 : {test_index}')\n",
    "    cv_accuracy.append(accuracy)\n",
    "\n",
    "# 개별 iteration별 정확도를 합하여 평균 정확도 계싼\n",
    "print(f'\\n## 평균 검증 정확도 : {np.mean(cv_accuracy)}')"
   ]
  },
  {
   "cell_type": "code",
   "execution_count": 16,
   "id": "f5660021",
   "metadata": {},
   "outputs": [
    {
     "name": "stdout",
     "output_type": "stream",
     "text": [
      "DecisionTreeClassifier()\n"
     ]
    },
    {
     "ename": "TypeError",
     "evalue": "DecisionTreeClassifier.fit() missing 1 required positional argument: 'y'",
     "output_type": "error",
     "traceback": [
      "\u001b[1;31m---------------------------------------------------------------------------\u001b[0m",
      "\u001b[1;31mTypeError\u001b[0m                                 Traceback (most recent call last)",
      "\u001b[1;32mc:\\Users\\kht91\\Desktop\\유비온\\핀테크데이터분석이론및실습\\data.ipynb Cell 5'\u001b[0m in \u001b[0;36m<module>\u001b[1;34m\u001b[0m\n\u001b[0;32m      <a href='vscode-notebook-cell:/c%3A/Users/kht91/Desktop/%EC%9C%A0%EB%B9%84%EC%98%A8/%ED%95%80%ED%85%8C%ED%81%AC%EB%8D%B0%EC%9D%B4%ED%84%B0%EB%B6%84%EC%84%9D%EC%9D%B4%EB%A1%A0%EB%B0%8F%EC%8B%A4%EC%8A%B5/data.ipynb#ch0000005?line=7'>8</a>\u001b[0m clf \u001b[39m=\u001b[39m \u001b[39meval\u001b[39m(i)\n\u001b[0;32m      <a href='vscode-notebook-cell:/c%3A/Users/kht91/Desktop/%EC%9C%A0%EB%B9%84%EC%98%A8/%ED%95%80%ED%85%8C%ED%81%AC%EB%8D%B0%EC%9D%B4%ED%84%B0%EB%B6%84%EC%84%9D%EC%9D%B4%EB%A1%A0%EB%B0%8F%EC%8B%A4%EC%8A%B5/data.ipynb#ch0000005?line=8'>9</a>\u001b[0m \u001b[39m# 학습 및 예측\u001b[39;00m\n\u001b[1;32m---> <a href='vscode-notebook-cell:/c%3A/Users/kht91/Desktop/%EC%9C%A0%EB%B9%84%EC%98%A8/%ED%95%80%ED%85%8C%ED%81%AC%EB%8D%B0%EC%9D%B4%ED%84%B0%EB%B6%84%EC%84%9D%EC%9D%B4%EB%A1%A0%EB%B0%8F%EC%8B%A4%EC%8A%B5/data.ipynb#ch0000005?line=9'>10</a>\u001b[0m clf\u001b[39m.\u001b[39;49mfit(X_train, y_train)\n\u001b[0;32m     <a href='vscode-notebook-cell:/c%3A/Users/kht91/Desktop/%EC%9C%A0%EB%B9%84%EC%98%A8/%ED%95%80%ED%85%8C%ED%81%AC%EB%8D%B0%EC%9D%B4%ED%84%B0%EB%B6%84%EC%84%9D%EC%9D%B4%EB%A1%A0%EB%B0%8F%EC%8B%A4%EC%8A%B5/data.ipynb#ch0000005?line=10'>11</a>\u001b[0m pred \u001b[39m=\u001b[39m dt_clf\u001b[39m.\u001b[39mpredict(X_test)\n\u001b[0;32m     <a href='vscode-notebook-cell:/c%3A/Users/kht91/Desktop/%EC%9C%A0%EB%B9%84%EC%98%A8/%ED%95%80%ED%85%8C%ED%81%AC%EB%8D%B0%EC%9D%B4%ED%84%B0%EB%B6%84%EC%84%9D%EC%9D%B4%EB%A1%A0%EB%B0%8F%EC%8B%A4%EC%8A%B5/data.ipynb#ch0000005?line=11'>12</a>\u001b[0m n_iter \u001b[39m+\u001b[39m\u001b[39m=\u001b[39m \u001b[39m1\u001b[39m\n",
      "\u001b[1;31mTypeError\u001b[0m: DecisionTreeClassifier.fit() missing 1 required positional argument: 'y'"
     ]
    }
   ],
   "source": [
    "cl_arr = ['DecisionTreeClassifier', 'LogisticRegression' ]\n",
    "for i in cl_arr:\n",
    "    print(f'{i}()')\n",
    "    for train_index, test_index in kfold.split(features):\n",
    "        # kfold.split()으로 반환된 인덱스를 이용하여 학습용, 검증용 테스트 데이터 추출\n",
    "        X_train, X_test = features[train_index], features[test_index]\n",
    "        y_train, y_test = label[train_index], label[test_index]\n",
    "        clf = eval(i)\n",
    "        # 학습 및 예측\n",
    "        clf.fit(X_train, y_train)\n",
    "        pred = dt_clf.predict(X_test)\n",
    "        n_iter += 1\n",
    "        # 반복 시 마다 정확도 측정\n",
    "        accuracy = np.round(accuracy_score(y_test,pred),4)\n",
    "        train_size = X_train.shape[0]\n",
    "        test_size = X_test.shape[0]\n",
    "        print(f'\\n#{n_iter} 교차검증 정확도 : {accuracy}, 학습 데이터 크기 : {train_size}, 검증 데이터 크기 : {test_size}')\n",
    "        print(f'#{n_iter} 검증 세트 인덱스 : {test_index}')\n",
    "        cv_accuracy.append(accuracy)\n",
    "\n",
    "# 개별 iteration별 정확도를 합하여 평균 정확도 계산\n",
    "print(f'\\n## 평균 검증 정확도 : {np.mean(cv_accuracy)}')"
   ]
  },
  {
   "cell_type": "markdown",
   "id": "6293f2d1",
   "metadata": {},
   "source": [
    "### 2. sklearn.model_selection.StratifiedKFold\n",
    "### class sklearn.model_selection.StratifiedKFold(n_splits=5, *, shuffle=False, random_state=None)"
   ]
  },
  {
   "cell_type": "code",
   "execution_count": 19,
   "id": "01845a2e",
   "metadata": {},
   "outputs": [
    {
     "data": {
      "text/plain": [
       "0    50\n",
       "1    50\n",
       "2    50\n",
       "Name: label, dtype: int64"
      ]
     },
     "execution_count": 19,
     "metadata": {},
     "output_type": "execute_result"
    }
   ],
   "source": [
    "iris_df = pd.DataFrame(data=iris.data, columns=iris.feature_names)\n",
    "iris_df[\"label\"] = iris.target\n",
    "iris_df[\"label\"].value_counts()"
   ]
  },
  {
   "cell_type": "code",
   "execution_count": 27,
   "id": "4558afac",
   "metadata": {},
   "outputs": [
    {
     "name": "stdout",
     "output_type": "stream",
     "text": [
      "## 교차 검증 1\n",
      "학습 레이블 데이터 분포:\n",
      "1    50\n",
      "2    50\n",
      "Name: label, dtype: int64\n",
      "검증 레이블 데이터 분포:\n",
      "0    50\n",
      "Name: label, dtype: int64\n",
      "## 교차 검증 2\n",
      "학습 레이블 데이터 분포:\n",
      "0    50\n",
      "2    50\n",
      "Name: label, dtype: int64\n",
      "검증 레이블 데이터 분포:\n",
      "1    50\n",
      "Name: label, dtype: int64\n",
      "## 교차 검증 3\n",
      "학습 레이블 데이터 분포:\n",
      "0    50\n",
      "1    50\n",
      "Name: label, dtype: int64\n",
      "검증 레이블 데이터 분포:\n",
      "2    50\n",
      "Name: label, dtype: int64\n"
     ]
    }
   ],
   "source": [
    "kfold = KFold(n_splits=3)\n",
    "# kfold.split(x)는 폴드 세트를 3번 반복할 때마다 달라지는 학습/테스트 용 데이터 로우 인덱스 번호 반환.\n",
    "n_iter = 0\n",
    "for train_index, test_index  in kfold.split(iris_df):\n",
    "    n_iter +=1\n",
    "    label_train = iris_df['label'].iloc[train_index]\n",
    "    label_test = iris_df['label'].iloc[test_index]\n",
    "    print(f'## 교차 검증 {n_iter}')\n",
    "    print(f'학습 레이블 데이터 분포:\\n{label_train.value_counts()}')\n",
    "    print(f'검증 레이블 데이터 분포:\\n{label_test.value_counts()}')"
   ]
  },
  {
   "cell_type": "code",
   "execution_count": 28,
   "id": "9a31d4d5",
   "metadata": {},
   "outputs": [
    {
     "name": "stdout",
     "output_type": "stream",
     "text": [
      "## 교차 검증 1\n",
      "학습 레이블 데이터 분포:\n",
      "2    34\n",
      "0    33\n",
      "1    33\n",
      "Name: label, dtype: int64\n",
      "검증 레이블 데이터 분포:\n",
      "0    17\n",
      "1    17\n",
      "2    16\n",
      "Name: label, dtype: int64\n",
      "## 교차 검증 2\n",
      "학습 레이블 데이터 분포:\n",
      "1    34\n",
      "0    33\n",
      "2    33\n",
      "Name: label, dtype: int64\n",
      "검증 레이블 데이터 분포:\n",
      "0    17\n",
      "2    17\n",
      "1    16\n",
      "Name: label, dtype: int64\n",
      "## 교차 검증 3\n",
      "학습 레이블 데이터 분포:\n",
      "0    34\n",
      "1    33\n",
      "2    33\n",
      "Name: label, dtype: int64\n",
      "검증 레이블 데이터 분포:\n",
      "1    17\n",
      "2    17\n",
      "0    16\n",
      "Name: label, dtype: int64\n"
     ]
    }
   ],
   "source": [
    "skf = StratifiedKFold(n_splits=3)\n",
    "n_iter = 0\n",
    "for train_index, test_index in skf.split(iris_df, iris_df['label']):\n",
    "    n_iter+=1\n",
    "    label_train = iris_df['label'].iloc[train_index]\n",
    "    label_test = iris_df['label'].iloc[test_index]\n",
    "    print(f'## 교차 검증 {n_iter}')\n",
    "    print(f'학습 레이블 데이터 분포:\\n{label_train.value_counts()}')\n",
    "    print(f'검증 레이블 데이터 분포:\\n{label_test.value_counts()}')"
   ]
  },
  {
   "cell_type": "markdown",
   "id": "af5de0d7",
   "metadata": {},
   "source": [
    "#### 3. sklearn.model_selection.cross_val_score\n",
    "#### sklearn.model_selection.cross_val_score(estimator, X, y=None, *, groups=None, scoring=None, cv=None, n_jobs=None, verbose=0, fit_params=None, pre_dispatch='2*n_jobs', error_score=nan)"
   ]
  },
  {
   "cell_type": "code",
   "execution_count": 44,
   "id": "2559a889",
   "metadata": {},
   "outputs": [
    {
     "name": "stdout",
     "output_type": "stream",
     "text": [
      "교차 검증별 정확도 : [0.98 0.94 0.98]\n",
      "평균 검증 정홛도 : 0.9667\n"
     ]
    }
   ],
   "source": [
    "iris_data = load_iris()\n",
    "dt_clf = DecisionTreeClassifier(random_state=156)\n",
    "\n",
    "data = iris_data.data\n",
    "label = iris_data.target\n",
    "\n",
    "# 성능 지표는 정확도(accuracy), 교차 검증 세트는 3개\n",
    "scores = cross_val_score(dt_clf, data, label, scoring='accuracy', cv = 3)\n",
    "print(f'교차 검증별 정확도 : {np.round(scores, 4)}')\n",
    "print(f'평균 검증 정홛도 : {np.round(np.mean(scores), 4)}')"
   ]
  },
  {
   "cell_type": "markdown",
   "id": "aeeb78d2",
   "metadata": {},
   "source": [
    "#### 4. sklearn.model_selection.GridSearchCV\n",
    "#### class sklearn.model_selection.GridSearchCV(estimator, param_grid, *, scoring=None, n_jobs=None, refit=True, cv=None, verbose=0, pre_dispatch='2*n_jobs', error_score=nan, return_train_score=False)"
   ]
  },
  {
   "cell_type": "code",
   "execution_count": 39,
   "id": "a4febe1c",
   "metadata": {},
   "outputs": [
    {
     "data": {
      "text/html": [
       "<div>\n",
       "<style scoped>\n",
       "    .dataframe tbody tr th:only-of-type {\n",
       "        vertical-align: middle;\n",
       "    }\n",
       "\n",
       "    .dataframe tbody tr th {\n",
       "        vertical-align: top;\n",
       "    }\n",
       "\n",
       "    .dataframe thead th {\n",
       "        text-align: right;\n",
       "    }\n",
       "</style>\n",
       "<table border=\"1\" class=\"dataframe\">\n",
       "  <thead>\n",
       "    <tr style=\"text-align: right;\">\n",
       "      <th></th>\n",
       "      <th>params</th>\n",
       "      <th>mean_test_score</th>\n",
       "      <th>rank_test_score</th>\n",
       "      <th>split0_test_score</th>\n",
       "      <th>split1_test_score</th>\n",
       "      <th>split2_test_score</th>\n",
       "    </tr>\n",
       "  </thead>\n",
       "  <tbody>\n",
       "    <tr>\n",
       "      <th>0</th>\n",
       "      <td>{'max_depth': 1, 'min_samples_split': 2}</td>\n",
       "      <td>0.700000</td>\n",
       "      <td>5</td>\n",
       "      <td>0.700</td>\n",
       "      <td>0.7</td>\n",
       "      <td>0.70</td>\n",
       "    </tr>\n",
       "    <tr>\n",
       "      <th>1</th>\n",
       "      <td>{'max_depth': 1, 'min_samples_split': 3}</td>\n",
       "      <td>0.700000</td>\n",
       "      <td>5</td>\n",
       "      <td>0.700</td>\n",
       "      <td>0.7</td>\n",
       "      <td>0.70</td>\n",
       "    </tr>\n",
       "    <tr>\n",
       "      <th>2</th>\n",
       "      <td>{'max_depth': 2, 'min_samples_split': 2}</td>\n",
       "      <td>0.958333</td>\n",
       "      <td>3</td>\n",
       "      <td>0.925</td>\n",
       "      <td>1.0</td>\n",
       "      <td>0.95</td>\n",
       "    </tr>\n",
       "    <tr>\n",
       "      <th>3</th>\n",
       "      <td>{'max_depth': 2, 'min_samples_split': 3}</td>\n",
       "      <td>0.958333</td>\n",
       "      <td>3</td>\n",
       "      <td>0.925</td>\n",
       "      <td>1.0</td>\n",
       "      <td>0.95</td>\n",
       "    </tr>\n",
       "    <tr>\n",
       "      <th>4</th>\n",
       "      <td>{'max_depth': 3, 'min_samples_split': 2}</td>\n",
       "      <td>0.975000</td>\n",
       "      <td>1</td>\n",
       "      <td>0.975</td>\n",
       "      <td>1.0</td>\n",
       "      <td>0.95</td>\n",
       "    </tr>\n",
       "    <tr>\n",
       "      <th>5</th>\n",
       "      <td>{'max_depth': 3, 'min_samples_split': 3}</td>\n",
       "      <td>0.975000</td>\n",
       "      <td>1</td>\n",
       "      <td>0.975</td>\n",
       "      <td>1.0</td>\n",
       "      <td>0.95</td>\n",
       "    </tr>\n",
       "  </tbody>\n",
       "</table>\n",
       "</div>"
      ],
      "text/plain": [
       "                                     params  mean_test_score  rank_test_score  \\\n",
       "0  {'max_depth': 1, 'min_samples_split': 2}         0.700000                5   \n",
       "1  {'max_depth': 1, 'min_samples_split': 3}         0.700000                5   \n",
       "2  {'max_depth': 2, 'min_samples_split': 2}         0.958333                3   \n",
       "3  {'max_depth': 2, 'min_samples_split': 3}         0.958333                3   \n",
       "4  {'max_depth': 3, 'min_samples_split': 2}         0.975000                1   \n",
       "5  {'max_depth': 3, 'min_samples_split': 3}         0.975000                1   \n",
       "\n",
       "   split0_test_score  split1_test_score  split2_test_score  \n",
       "0              0.700                0.7               0.70  \n",
       "1              0.700                0.7               0.70  \n",
       "2              0.925                1.0               0.95  \n",
       "3              0.925                1.0               0.95  \n",
       "4              0.975                1.0               0.95  \n",
       "5              0.975                1.0               0.95  "
      ]
     },
     "execution_count": 39,
     "metadata": {},
     "output_type": "execute_result"
    }
   ],
   "source": [
    "# 데이터를 로딩하고 학습데이터와 테스트 데이터 분리\n",
    "iris = load_iris()\n",
    "X_train, X_test, y_train, y_test = train_test_split(iris_data.data, iris_data.target, test_size = 0.2, random_state = 121)\n",
    "\n",
    "dtree = DecisionTreeClassifier()\n",
    "\n",
    "### parameter 들을 dictionary 형태로 설정\n",
    "parameters = {'max_depth' : [1,2,3], 'min_samples_split' : [2,3]}\n",
    "\n",
    "# param_gird의 하이퍼 파라미터들의 3개의 train, test_set_fold로 나누어서 테스트 수행 설정\n",
    "### refit = True 가 default 임. True이면 가장 좋은 파라미터 설정으로 재학습 시킴\n",
    "grid_dtree = GridSearchCV(dtree, param_grid = parameters, cv = 3, refit = True)\n",
    "\n",
    "# 붓꽃 Train 데이터로 param_grid의 하이퍼 파라미터들을 순차적으로 학습/평가\n",
    "grid_dtree.fit(X_train, y_train)\n",
    "\n",
    "# GridSearchCV 결과를 추출하여 DataFrame으로 변환\n",
    "scores_df = pd.DataFrame(grid_dtree.cv_results_)\n",
    "scores_df[['params', 'mean_test_score', 'rank_test_score', 'split0_test_score', 'split1_test_score', 'split2_test_score']]"
   ]
  },
  {
   "cell_type": "code",
   "execution_count": 40,
   "id": "3a7e9e02",
   "metadata": {},
   "outputs": [
    {
     "name": "stdout",
     "output_type": "stream",
     "text": [
      "GridSearchCV 최적 파라미터 : {'max_depth': 3, 'min_samples_split': 2}\n",
      "GridSearchCV 최고 정확도 : 0.975\n"
     ]
    }
   ],
   "source": [
    "print(f'GridSearchCV 최적 파라미터 : {grid_dtree.best_params_}')\n",
    "print(f'GridSearchCV 최고 정확도 : {grid_dtree.best_score_}')"
   ]
  },
  {
   "cell_type": "code",
   "execution_count": 42,
   "metadata": {},
   "outputs": [
    {
     "name": "stdout",
     "output_type": "stream",
     "text": [
      "테스트 데이터 세트 정확도 : 0.9667\n"
     ]
    }
   ],
   "source": [
    "# GridSerachCV의 refit으로 이미 학습이 된 estimator 반환\n",
    "estimator = grid_dtree.best_estimator_\n",
    "\n",
    "# GridSearchCV의 best_estimator_는 이미 최적 하이퍼 파라미터로 학습이 됨\n",
    "pred = estimator.predict(X_test)\n",
    "print(f'테스트 데이터 세트 정확도 : {accuracy_score(y_test,pred):.4f}')"
   ]
  },
  {
   "cell_type": "code",
   "execution_count": 66,
   "id": "7d8874fe",
   "metadata": {},
   "outputs": [
    {
     "name": "stdout",
     "output_type": "stream",
     "text": [
      "                                     params  mean_test_score  rank_test_score  \\\n",
      "0  {'max_depth': 5, 'min_samples_split': 2}         0.723083                1   \n",
      "1  {'max_depth': 5, 'min_samples_split': 3}         0.719823                2   \n",
      "2  {'max_depth': 6, 'min_samples_split': 2}         0.705173                4   \n",
      "3  {'max_depth': 6, 'min_samples_split': 3}         0.701897                6   \n",
      "4  {'max_depth': 7, 'min_samples_split': 2}         0.708425                3   \n",
      "5  {'max_depth': 7, 'min_samples_split': 3}         0.703523                5   \n",
      "\n",
      "   split0_test_score  split1_test_score  split2_test_score  \n",
      "0           0.746341           0.726829           0.696078  \n",
      "1           0.741463           0.726829           0.691176  \n",
      "2           0.731707           0.702439           0.681373  \n",
      "3           0.731707           0.707317           0.666667  \n",
      "4           0.731707           0.712195           0.681373  \n",
      "5           0.741463           0.702439           0.666667  \n",
      "\n",
      "GridSearchCV 최적 파라미터 : {'max_depth': 5, 'min_samples_split': 2}\n",
      "GridSearchCV 최고 정확도 : 0.7230830543599552\n",
      "테스트 데이터 세트 정확도 : 0.7662\n"
     ]
    }
   ],
   "source": [
    "dia_df = pd.read_csv('./diabetes.csv')\n",
    "dia_df_1 = pd.DataFrame(dia_df)\n",
    "dia_data = dia_df_1.iloc[:,0:-1]\n",
    "dia_label = dia_df_1.iloc[:,-1]\n",
    "\n",
    "X_train, X_test, y_train, y_test = train_test_split(dia_data, dia_label, test_size = 0.2, random_state = 121)\n",
    "\n",
    "dtree = DecisionTreeClassifier()\n",
    "parameters = {'max_depth' : [5,6,7], 'min_samples_split' : [2,3]}\n",
    "\n",
    "grid_dtree = GridSearchCV(dtree, param_grid = parameters, cv = 3, refit = True)\n",
    "\n",
    "grid_dtree.fit(X_train, y_train)\n",
    "\n",
    "scores_df = pd.DataFrame(grid_dtree.cv_results_)\n",
    "print(scores_df[['params', 'mean_test_score', 'rank_test_score', 'split0_test_score', 'split1_test_score', 'split2_test_score']])\n",
    "\n",
    "print(f'\\nGridSearchCV 최적 파라미터 : {grid_dtree.best_params_}')\n",
    "print(f'GridSearchCV 최고 정확도 : {grid_dtree.best_score_}')\n",
    "\n",
    "estimator = grid_dtree.best_estimator_\n",
    "\n",
    "pred = estimator.predict(X_test)\n",
    "print(f'테스트 데이터 세트 정확도 : {accuracy_score(y_test,pred):.4f}')"
   ]
  },
  {
   "cell_type": "code",
   "execution_count": 70,
   "id": "197f1285",
   "metadata": {},
   "outputs": [
    {
     "name": "stdout",
     "output_type": "stream",
     "text": [
      "                                     params  mean_test_score  rank_test_score  \\\n",
      "0  {'max_depth': 5, 'min_samples_split': 2}         0.721457                1   \n",
      "1  {'max_depth': 5, 'min_samples_split': 3}         0.721457                1   \n",
      "2  {'max_depth': 6, 'min_samples_split': 2}         0.695385                6   \n",
      "3  {'max_depth': 6, 'min_samples_split': 3}         0.705173                4   \n",
      "4  {'max_depth': 7, 'min_samples_split': 2}         0.697019                5   \n",
      "5  {'max_depth': 7, 'min_samples_split': 3}         0.713319                3   \n",
      "\n",
      "   split0_test_score  split1_test_score  split2_test_score  \n",
      "0           0.741463           0.726829           0.696078  \n",
      "1           0.741463           0.726829           0.696078  \n",
      "2           0.726829           0.697561           0.661765  \n",
      "3           0.731707           0.702439           0.681373  \n",
      "4           0.726829           0.697561           0.666667  \n",
      "5           0.731707           0.717073           0.691176  \n",
      "\n",
      "GridSearchCV 최적 파라미터 : {'max_depth': 5, 'min_samples_split': 2}\n",
      "GridSearchCV 최고 정확도 : 0.7214570380997927\n",
      "테스트 데이터 세트 정확도 : 0.7597\n"
     ]
    }
   ],
   "source": [
    "dia_df = pd.read_csv('./diabetes.csv')\n",
    "dia_df_1 = pd.DataFrame(dia_df)\n",
    "\n",
    "x = dia_df_1[['Pregnancies', 'Glucose', 'BloodPressure', 'SkinThickness', 'Insulin',\n",
    "        'BMI', 'DiabetesPedigreeFunction', 'Age']]\n",
    "y = dia_df_1[['Outcome']]\n",
    "\n",
    "X_train, X_test, y_train, y_test = train_test_split(x, y, test_size = 0.2, random_state = 121)\n",
    "\n",
    "dtree = DecisionTreeClassifier()\n",
    "parameters = {'max_depth' : [5,6,7], 'min_samples_split' : [2,3]}\n",
    "\n",
    "grid_dtree = GridSearchCV(dtree, param_grid = parameters, cv = 3, refit = True)\n",
    "\n",
    "grid_dtree.fit(X_train, y_train)\n",
    "\n",
    "scores_df = pd.DataFrame(grid_dtree.cv_results_)\n",
    "print(scores_df[['params', 'mean_test_score', 'rank_test_score', 'split0_test_score', 'split1_test_score', 'split2_test_score']])\n",
    "\n",
    "print(f'\\nGridSearchCV 최적 파라미터 : {grid_dtree.best_params_}')\n",
    "print(f'GridSearchCV 최고 정확도 : {grid_dtree.best_score_}')\n",
    "\n",
    "estimator = grid_dtree.best_estimator_\n",
    "\n",
    "pred = estimator.predict(X_test)\n",
    "print(f'테스트 데이터 세트 정확도 : {accuracy_score(y_test,pred):.4f}')"
   ]
  },
  {
   "cell_type": "code",
   "execution_count": 89,
   "id": "4c6e560f",
   "metadata": {},
   "outputs": [
    {
     "data": {
      "text/plain": [
       "<matplotlib.legend.Legend at 0x1c14be41960>"
      ]
     },
     "execution_count": 89,
     "metadata": {},
     "output_type": "execute_result"
    },
    {
     "data": {
      "image/png": "[encoded data removed]",
      "text/plain": [
       "<Figure size 432x288 with 1 Axes>"
      ]
     },
     "metadata": {
      "needs_background": "light"
     },
     "output_type": "display_data"
    }
   ],
   "source": [
    "from sklearn.datasets import load_iris\n",
    "import matplotlib.pyplot as plt\n",
    "\n",
    "iris = load_iris()\n",
    "sepal = iris.data[:, 0:2]\n",
    "kind = iris.target\n",
    "\n",
    "plt.xlabel('Sepal Length')\n",
    "plt.ylabel('Sepal Width')\n",
    "\n",
    "plt.plot(sepal[kind == 0][:,0], sepal[kind == 0][:,1], \"ro\", label = 'Setosa')\n",
    "plt.plot(sepal[kind == 1][:,0], sepal[kind == 1][:,1], \"bo\", label = 'Versicolor')\n",
    "plt.plot(sepal[kind == 2][:,0], sepal[kind == 2][:,1], \"yo\", label = 'Virginica')\n",
    "\n",
    "plt.legend()"
   ]
  }
 ],
 "metadata": {
  "interpreter": {
   "hash": "8d3a68eede2cceb1eacb5149b1db1c5d1603031fd99060d6db31a21913c926e4"
  },
  "kernelspec": {
   "display_name": "Python 3.10.2 64-bit",
   "language": "python",
   "name": "python3"
  },
  "language_info": {
   "codemirror_mode": {
    "name": "ipython",
    "version": 3
   },
   "file_extension": ".py",
   "mimetype": "text/x-python",
   "name": "python",
   "nbconvert_exporter": "python",
   "pygments_lexer": "ipython3",
   "version": "3.10.2"
  }
 },
 "nbformat": 4,
 "nbformat_minor": 5
}
