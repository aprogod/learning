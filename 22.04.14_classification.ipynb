{
 "cells": [
  {
   "cell_type": "markdown",
   "metadata": {},
   "source": [
    "# sklearn.ensemble.GradientBoostingClassifier\n",
    "* class sklearn.ensemble.GradientBoostingClassifier(*, loss='deviance', learning_rate=0.1, n_estimators=100, subsample=1.0, criterion='friedman_mse', min_samples_split=2, min_samples_leaf=1, min_weight_fraction_leaf=0.0, max_depth=3, min_impurity_decrease=0.0, init=None, random_state=None, max_features=None, verbose=0, max_leaf_nodes=None, warm_start=False, validation_fraction=0.1, n_iter_no_change=None, tol=0.0001, ccp_alpha=0.0)"
   ]
  },
  {
   "cell_type": "code",
   "execution_count": 1,
   "metadata": {},
   "outputs": [
    {
     "name": "stdout",
     "output_type": "stream",
     "text": [
      "천체 피처명에서 10개만 추출 : ['tBodyAcc-mean()-X', 'tBodyAcc-mean()-Y', 'tBodyAcc-mean()-Z', 'tBodyAcc-std()-X', 'tBodyAcc-std()-Y', 'tBodyAcc-std()-Z', 'tBodyAcc-mad()-X', 'tBodyAcc-mad()-Y', 'tBodyAcc-mad()-Z', 'tBodyAcc-max()-X']\n"
     ]
    }
   ],
   "source": [
    "import pandas as pd\n",
    "import matplotlib.pyplot as plt\n",
    "\n",
    "# features.txt 파일에는 피처 이름 indx와 피처명이 공백으로 분리되어 있음. 이를 DataFrame으로 로드\n",
    "feature_name_df = pd.read_csv('./datasets/features.txt', sep='\\s+', header=None, names=['column_index', 'column_name'])\n",
    "\n",
    "# 피처명 index를 제거하고, 피처명만 리스트 객체로 생성한 뒤 샘플로 10개만 추출\n",
    "feature_name = feature_name_df.iloc[:,1].values.tolist()\n",
    "print(f'천체 피처명에서 10개만 추출 : {feature_name[:10]}')"
   ]
  },
  {
   "cell_type": "code",
   "execution_count": 2,
   "metadata": {},
   "outputs": [
    {
     "name": "stdout",
     "output_type": "stream",
     "text": [
      "column_index    42\n",
      "dtype: int64\n"
     ]
    },
    {
     "data": {
      "text/html": [
       "<div>\n",
       "<style scoped>\n",
       "    .dataframe tbody tr th:only-of-type {\n",
       "        vertical-align: middle;\n",
       "    }\n",
       "\n",
       "    .dataframe tbody tr th {\n",
       "        vertical-align: top;\n",
       "    }\n",
       "\n",
       "    .dataframe thead th {\n",
       "        text-align: right;\n",
       "    }\n",
       "</style>\n",
       "<table border=\"1\" class=\"dataframe\">\n",
       "  <thead>\n",
       "    <tr style=\"text-align: right;\">\n",
       "      <th></th>\n",
       "      <th>column_index</th>\n",
       "    </tr>\n",
       "    <tr>\n",
       "      <th>column_name</th>\n",
       "      <th></th>\n",
       "    </tr>\n",
       "  </thead>\n",
       "  <tbody>\n",
       "    <tr>\n",
       "      <th>fBodyAcc-bandsEnergy()-1,16</th>\n",
       "      <td>3</td>\n",
       "    </tr>\n",
       "    <tr>\n",
       "      <th>fBodyAcc-bandsEnergy()-1,24</th>\n",
       "      <td>3</td>\n",
       "    </tr>\n",
       "    <tr>\n",
       "      <th>fBodyAcc-bandsEnergy()-1,8</th>\n",
       "      <td>3</td>\n",
       "    </tr>\n",
       "    <tr>\n",
       "      <th>fBodyAcc-bandsEnergy()-17,24</th>\n",
       "      <td>3</td>\n",
       "    </tr>\n",
       "    <tr>\n",
       "      <th>fBodyAcc-bandsEnergy()-17,32</th>\n",
       "      <td>3</td>\n",
       "    </tr>\n",
       "  </tbody>\n",
       "</table>\n",
       "</div>"
      ],
      "text/plain": [
       "                              column_index\n",
       "column_name                               \n",
       "fBodyAcc-bandsEnergy()-1,16              3\n",
       "fBodyAcc-bandsEnergy()-1,24              3\n",
       "fBodyAcc-bandsEnergy()-1,8               3\n",
       "fBodyAcc-bandsEnergy()-17,24             3\n",
       "fBodyAcc-bandsEnergy()-17,32             3"
      ]
     },
     "execution_count": 2,
     "metadata": {},
     "output_type": "execute_result"
    }
   ],
   "source": [
    "feature_dup_df = feature_name_df.groupby('column_name').count()\n",
    "print(feature_dup_df[feature_dup_df['column_index']>1].count())\n",
    "feature_dup_df[feature_dup_df['column_index']>1].head()"
   ]
  },
  {
   "cell_type": "code",
   "execution_count": 3,
   "metadata": {},
   "outputs": [],
   "source": [
    "# 원본 데이터에 중복된 feature 명으로 인하여 신규 버전의 pandas에서 duplicate name 에러를 발생\n",
    "# 중복 feature 명에 대해서 원본 feature 명에 '_1(또는2)'를 추가로 부여하는 함수 get_new_feature_name_df() 생성\n",
    "\n",
    "def get_new_feature_name_df(old_feature_name_df):\n",
    "    feature_dup_df = pd.DataFrame(data=old_feature_name_df.groupby('column_name').cumcount(), columns=['dup_cnt'])\n",
    "    feature_dup_df = feature_dup_df.reset_index()\n",
    "    new_feature_name_df = pd.merge(old_feature_name_df.reset_index(), feature_dup_df, how='outer')\n",
    "    new_feature_name_df['column_name'] = new_feature_name_df[['column_name', 'dup_cnt']].apply(lambda x: x[0]+'_'+str(x[1]) if x[1]>0 else x[0], axis =1)\n",
    "    new_feature_name_df = new_feature_name_df.drop(['index'],axis=1)\n",
    "    return new_feature_name_df"
   ]
  },
  {
   "cell_type": "code",
   "execution_count": 4,
   "metadata": {},
   "outputs": [],
   "source": [
    "import pandas as pd\n",
    "\n",
    "def get_human_dataset():\n",
    "\n",
    "    # 각 데이터 파일들을 공백으로 분리되어 있으므로 read_csv에서 공백 문자를 sep으로 할당\n",
    "    feature_name_df = pd.read_csv('./datasets/features.txt', sep='\\s+', header=None, names=['column_index', 'column_name'])\n",
    "\n",
    "    # 중복된 피처명을 수정하는 get_new_feature_name_df()를 이용, 신규 피처명 DataFrame 생성\n",
    "    new_feature_name_df = get_new_feature_name_df(feature_name_df)\n",
    "\n",
    "    # DataFrame에 피처명을 컬럼으로 부여하기 위해 리스트 객체로 다시 변환\n",
    "    feature_name = new_feature_name_df.iloc[:,1].values.tolist()\n",
    "\n",
    "    # 학습 피처 데이터 셋과 테스트 피처 데이터를 DataFrame 으로 로딩, 컬럼명은 feature_name 적용\n",
    "    X_train = pd.read_csv('./datasets/train/X_train.txt', sep='\\s+', names=feature_name)\n",
    "    X_test = pd.read_csv('./datasets/test/X_test.txt', sep='\\s+', names=feature_name)\n",
    "\n",
    "    # 학습 레이블과 테스트 레이블 데이터를 DataFrame으로 로딩하고 컬럼명은 action으로 부여\n",
    "    y_train = pd.read_csv('./datasets/train/y_train.txt', sep='\\s+', header=None, names=['action'])\n",
    "    y_test = pd.read_csv('./datasets/test/y_test.txt', sep='\\s+', header=None, names=['action'])\n",
    "\n",
    "    # 로드된 학습/테스트용 DataFrame을 모두 반환\n",
    "    return X_train, X_test, y_train, y_test\n",
    "\n",
    "X_train, X_test, y_train, y_test = get_human_dataset()"
   ]
  },
  {
   "cell_type": "code",
   "execution_count": 8,
   "metadata": {},
   "outputs": [
    {
     "name": "stdout",
     "output_type": "stream",
     "text": [
      "GBM 정확도 : 0.9389\n",
      "GBM 수행 시간 : 972.6\n"
     ]
    }
   ],
   "source": [
    "from sklearn.ensemble import GradientBoostingClassifier\n",
    "import time\n",
    "import warnings\n",
    "from sklearn.metrics import accuracy_score\n",
    "warnings.filterwarnings('ignore')\n",
    "\n",
    "X_train, X_test, y_train, y_test = get_human_dataset()\n",
    "\n",
    "# GBM 수행 시간 측정을 위함. 시작 시간 설정.\n",
    "start_time = time.time()\n",
    "\n",
    "gb_clf = GradientBoostingClassifier(random_state=0)\n",
    "gb_clf.fit(X_train, y_train)\n",
    "gb_pred = gb_clf.predict(X_test)\n",
    "gb_accuracy = accuracy_score(y_test, gb_pred)\n",
    "\n",
    "print(f'GBM 정확도 : {gb_accuracy:.4f}')\n",
    "print(f'GBM 수행 시간 : {time.time()-start_time:.1f}')"
   ]
  },
  {
   "cell_type": "code",
   "execution_count": null,
   "metadata": {},
   "outputs": [],
   "source": [
    "from sklearn.model_selection import GridSearchCV\n",
    "params = {\n",
    "    'n_estimators' : [100, 500],\n",
    "    'learning_rate' : [0.05, 0.1]\n",
    "}\n",
    "grid_cv = GridSearchCV(gb_clf, param_grid=params, cv=2, verbose=1)\n",
    "grid_cv.fit(X_train, y_train)\n",
    "print(f\"최적 하이퍼 파라미터 : {grid_cv.best_params_}\")\n",
    "print(f\"최고 예측 정확도 : {grid_cv.best_score_:.4f}\")"
   ]
  },
  {
   "cell_type": "markdown",
   "metadata": {},
   "source": []
  },
  {
   "cell_type": "code",
   "execution_count": 15,
   "metadata": {},
   "outputs": [
    {
     "data": {
      "text/html": [
       "<div>\n",
       "<style scoped>\n",
       "    .dataframe tbody tr th:only-of-type {\n",
       "        vertical-align: middle;\n",
       "    }\n",
       "\n",
       "    .dataframe tbody tr th {\n",
       "        vertical-align: top;\n",
       "    }\n",
       "\n",
       "    .dataframe thead th {\n",
       "        text-align: right;\n",
       "    }\n",
       "</style>\n",
       "<table border=\"1\" class=\"dataframe\">\n",
       "  <thead>\n",
       "    <tr style=\"text-align: right;\">\n",
       "      <th></th>\n",
       "      <th>mean radius</th>\n",
       "      <th>mean texture</th>\n",
       "      <th>mean perimeter</th>\n",
       "      <th>mean area</th>\n",
       "      <th>mean smoothness</th>\n",
       "      <th>mean compactness</th>\n",
       "      <th>mean concavity</th>\n",
       "      <th>mean concave points</th>\n",
       "      <th>mean symmetry</th>\n",
       "      <th>mean fractal dimension</th>\n",
       "      <th>radius error</th>\n",
       "      <th>texture error</th>\n",
       "      <th>perimeter error</th>\n",
       "      <th>area error</th>\n",
       "      <th>smoothness error</th>\n",
       "      <th>compactness error</th>\n",
       "      <th>concavity error</th>\n",
       "      <th>concave points error</th>\n",
       "      <th>symmetry error</th>\n",
       "      <th>fractal dimension error</th>\n",
       "      <th>worst radius</th>\n",
       "      <th>worst texture</th>\n",
       "      <th>worst perimeter</th>\n",
       "      <th>worst area</th>\n",
       "      <th>worst smoothness</th>\n",
       "      <th>worst compactness</th>\n",
       "      <th>worst concavity</th>\n",
       "      <th>worst concave points</th>\n",
       "      <th>worst symmetry</th>\n",
       "      <th>worst fractal dimension</th>\n",
       "      <th>target</th>\n",
       "    </tr>\n",
       "  </thead>\n",
       "  <tbody>\n",
       "    <tr>\n",
       "      <th>0</th>\n",
       "      <td>17.99</td>\n",
       "      <td>10.38</td>\n",
       "      <td>122.8</td>\n",
       "      <td>1001.0</td>\n",
       "      <td>0.11840</td>\n",
       "      <td>0.27760</td>\n",
       "      <td>0.3001</td>\n",
       "      <td>0.14710</td>\n",
       "      <td>0.2419</td>\n",
       "      <td>0.07871</td>\n",
       "      <td>1.0950</td>\n",
       "      <td>0.9053</td>\n",
       "      <td>8.589</td>\n",
       "      <td>153.40</td>\n",
       "      <td>0.006399</td>\n",
       "      <td>0.04904</td>\n",
       "      <td>0.05373</td>\n",
       "      <td>0.01587</td>\n",
       "      <td>0.03003</td>\n",
       "      <td>0.006193</td>\n",
       "      <td>25.38</td>\n",
       "      <td>17.33</td>\n",
       "      <td>184.6</td>\n",
       "      <td>2019.0</td>\n",
       "      <td>0.1622</td>\n",
       "      <td>0.6656</td>\n",
       "      <td>0.7119</td>\n",
       "      <td>0.2654</td>\n",
       "      <td>0.4601</td>\n",
       "      <td>0.11890</td>\n",
       "      <td>0</td>\n",
       "    </tr>\n",
       "    <tr>\n",
       "      <th>1</th>\n",
       "      <td>20.57</td>\n",
       "      <td>17.77</td>\n",
       "      <td>132.9</td>\n",
       "      <td>1326.0</td>\n",
       "      <td>0.08474</td>\n",
       "      <td>0.07864</td>\n",
       "      <td>0.0869</td>\n",
       "      <td>0.07017</td>\n",
       "      <td>0.1812</td>\n",
       "      <td>0.05667</td>\n",
       "      <td>0.5435</td>\n",
       "      <td>0.7339</td>\n",
       "      <td>3.398</td>\n",
       "      <td>74.08</td>\n",
       "      <td>0.005225</td>\n",
       "      <td>0.01308</td>\n",
       "      <td>0.01860</td>\n",
       "      <td>0.01340</td>\n",
       "      <td>0.01389</td>\n",
       "      <td>0.003532</td>\n",
       "      <td>24.99</td>\n",
       "      <td>23.41</td>\n",
       "      <td>158.8</td>\n",
       "      <td>1956.0</td>\n",
       "      <td>0.1238</td>\n",
       "      <td>0.1866</td>\n",
       "      <td>0.2416</td>\n",
       "      <td>0.1860</td>\n",
       "      <td>0.2750</td>\n",
       "      <td>0.08902</td>\n",
       "      <td>0</td>\n",
       "    </tr>\n",
       "    <tr>\n",
       "      <th>2</th>\n",
       "      <td>19.69</td>\n",
       "      <td>21.25</td>\n",
       "      <td>130.0</td>\n",
       "      <td>1203.0</td>\n",
       "      <td>0.10960</td>\n",
       "      <td>0.15990</td>\n",
       "      <td>0.1974</td>\n",
       "      <td>0.12790</td>\n",
       "      <td>0.2069</td>\n",
       "      <td>0.05999</td>\n",
       "      <td>0.7456</td>\n",
       "      <td>0.7869</td>\n",
       "      <td>4.585</td>\n",
       "      <td>94.03</td>\n",
       "      <td>0.006150</td>\n",
       "      <td>0.04006</td>\n",
       "      <td>0.03832</td>\n",
       "      <td>0.02058</td>\n",
       "      <td>0.02250</td>\n",
       "      <td>0.004571</td>\n",
       "      <td>23.57</td>\n",
       "      <td>25.53</td>\n",
       "      <td>152.5</td>\n",
       "      <td>1709.0</td>\n",
       "      <td>0.1444</td>\n",
       "      <td>0.4245</td>\n",
       "      <td>0.4504</td>\n",
       "      <td>0.2430</td>\n",
       "      <td>0.3613</td>\n",
       "      <td>0.08758</td>\n",
       "      <td>0</td>\n",
       "    </tr>\n",
       "  </tbody>\n",
       "</table>\n",
       "</div>"
      ],
      "text/plain": [
       "   mean radius  mean texture  ...  worst fractal dimension  target\n",
       "0        17.99         10.38  ...                  0.11890       0\n",
       "1        20.57         17.77  ...                  0.08902       0\n",
       "2        19.69         21.25  ...                  0.08758       0\n",
       "\n",
       "[3 rows x 31 columns]"
      ]
     },
     "execution_count": 15,
     "metadata": {},
     "output_type": "execute_result"
    }
   ],
   "source": [
    "import xgboost as xgb\n",
    "from xgboost import plot_importance\n",
    "import pandas as pd\n",
    "import numpy as np\n",
    "from sklearn.datasets import load_breast_cancer\n",
    "from sklearn.model_selection import train_test_split\n",
    "from sklearn.metrics import confusion_matrix, accuracy_score, precision_score, recall_score\n",
    "from sklearn.metrics import f1_score, roc_auc_score, roc_curve\n",
    "from xgboost import XGBClassifier\n",
    "import matplotlib.pyplot as plt\n",
    "\n",
    "import warnings\n",
    "warnings.filterwarnings('ignore')\n",
    "\n",
    "dataset = load_breast_cancer()\n",
    "X_features = dataset.data\n",
    "y_labels = dataset.target\n",
    "\n",
    "cancer_df = pd.DataFrame(data=X_features, columns=dataset.feature_names)\n",
    "cancer_df['target'] = y_labels\n",
    "\n",
    "cancer_df.head(3)"
   ]
  },
  {
   "cell_type": "code",
   "execution_count": 2,
   "metadata": {},
   "outputs": [],
   "source": [
    "X_train, X_test, y_train, y_test = train_test_split(X_features, y_labels, test_size=0.3, random_state=126)"
   ]
  },
  {
   "cell_type": "code",
   "execution_count": 11,
   "metadata": {},
   "outputs": [
    {
     "name": "stdout",
     "output_type": "stream",
     "text": [
      "[13:32:08] WARNING: C:/Users/Administrator/workspace/xgboost-win64_release_1.5.1/src/learner.cc:1115: Starting in XGBoost 1.3.0, the default evaluation metric used with the objective 'binary:logistic' was changed from 'error' to 'logloss'. Explicitly set eval_metric if you'd like to restore the old behavior.\n"
     ]
    }
   ],
   "source": [
    "xgb_clt = XGBClassifier(n_estimators = 400, learning_rate=0.1, max_depth=3)\n",
    "xgb_clt.fit(X_train,y_train)\n",
    "pred = xgb_clt.predict(X_test)\n",
    "pred_proba = xgb_clt.predict_proba(X_test)"
   ]
  },
  {
   "cell_type": "code",
   "execution_count": 25,
   "metadata": {},
   "outputs": [],
   "source": [
    "def get_clt_eval(y_test, pred):\n",
    "    confusion = confusion_matrix(y_test, pred)\n",
    "    accuracy = accuracy_score(y_test, pred)\n",
    "    precision = precision_score(y_test, pred)\n",
    "    recall = recall_score(y_test, pred)\n",
    "    F1 = f1_score(y_test, pred)\n",
    "    AUC = roc_auc_score(y_test, pred)\n",
    "    lr_probs = pred_proba[:, 1]\n",
    "\n",
    "    # Calculate roc curves    \n",
    "    ns_probs = [0 for _ in range(len(y_test))]\n",
    "    ns_fpr, ns_tpr, _ = roc_curve(y_test, ns_probs)\n",
    "    lr_fpr, lr_tpr, _ = roc_curve(y_test, lr_probs)\n",
    "\n",
    "    # plot the roc curve for the model\n",
    "    plt.figure(facecolor='w')\n",
    "    plt.plot(ns_fpr, ns_tpr, linestyle='--', label = 'No Skill')\n",
    "    plt.plot(lr_fpr, lr_tpr, marker='.', label = 'XGBOOST')\n",
    "\n",
    "    # axis labels\n",
    "    plt.xlabel('False Positve Rate')\n",
    "    plt.ylabel('True Positive Rate')\n",
    "\n",
    "    # show the legend\n",
    "    plt.legend()\n",
    "\n",
    "    # show the plot\n",
    "    plt.show()\n",
    "\n",
    "\n",
    "    print(f'오차행렬 \\n{confusion}')\n",
    "    print(f'정확도 \\n{accuracy:.4f}')\n",
    "    print(f'정밀도 \\n{precision:.4f}')\n",
    "    print(f'재현율 \\n{recall:.4f}')\n",
    "    print(f'f1_score \\n{F1:.4f}')\n",
    "    print(f'AUC \\n{AUC:.4f}')\n"
   ]
  },
  {
   "cell_type": "code",
   "execution_count": 26,
   "metadata": {},
   "outputs": [
    {
     "data": {
      "image/png": "[encoded data removed]",
      "text/plain": [
       "<Figure size 432x288 with 1 Axes>"
      ]
     },
     "metadata": {},
     "output_type": "display_data"
    },
    {
     "name": "stdout",
     "output_type": "stream",
     "text": [
      "오차행렬 \n",
      "[[ 58   4]\n",
      " [  1 108]]\n",
      "정확도 \n",
      "0.9708\n",
      "정밀도 \n",
      "0.9643\n",
      "재현율 \n",
      "0.9908\n",
      "f1_score \n",
      "0.9774\n",
      "AUC \n",
      "0.9632\n"
     ]
    }
   ],
   "source": [
    "get_clt_eval(y_test, pred)"
   ]
  },
  {
   "cell_type": "code",
   "execution_count": 27,
   "metadata": {},
   "outputs": [
    {
     "data": {
      "text/plain": [
       "<AxesSubplot:title={'center':'Feature importance'}, xlabel='F score', ylabel='Features'>"
      ]
     },
     "execution_count": 27,
     "metadata": {},
     "output_type": "execute_result"
    },
    {
     "data": {
      "image/png": "[encoded data removed]",
      "text/plain": [
       "<Figure size 720x864 with 1 Axes>"
      ]
     },
     "metadata": {},
     "output_type": "display_data"
    }
   ],
   "source": [
    "fig, ax = plt.subplots(figsize=(10,12), facecolor='w')\n",
    "\n",
    "plot_importance(xgb_clt, ax=ax)"
   ]
  },
  {
   "cell_type": "code",
   "execution_count": 28,
   "metadata": {},
   "outputs": [
    {
     "name": "stdout",
     "output_type": "stream",
     "text": [
      "[0]\tvalidation_0-logloss:0.61478\n",
      "[1]\tvalidation_0-logloss:0.54958\n",
      "[2]\tvalidation_0-logloss:0.49824\n",
      "[3]\tvalidation_0-logloss:0.45383\n",
      "[4]\tvalidation_0-logloss:0.41471\n",
      "[5]\tvalidation_0-logloss:0.38285\n",
      "[6]\tvalidation_0-logloss:0.35442\n",
      "[7]\tvalidation_0-logloss:0.33043\n",
      "[8]\tvalidation_0-logloss:0.30884\n",
      "[9]\tvalidation_0-logloss:0.28752\n",
      "[10]\tvalidation_0-logloss:0.26886\n",
      "[11]\tvalidation_0-logloss:0.25489\n",
      "[12]\tvalidation_0-logloss:0.23888\n",
      "[13]\tvalidation_0-logloss:0.22526\n",
      "[14]\tvalidation_0-logloss:0.21423\n",
      "[15]\tvalidation_0-logloss:0.20274\n",
      "[16]\tvalidation_0-logloss:0.19406\n",
      "[17]\tvalidation_0-logloss:0.18565\n",
      "[18]\tvalidation_0-logloss:0.17795\n",
      "[19]\tvalidation_0-logloss:0.17006\n",
      "[20]\tvalidation_0-logloss:0.16235\n",
      "[21]\tvalidation_0-logloss:0.15660\n",
      "[22]\tvalidation_0-logloss:0.15023\n",
      "[23]\tvalidation_0-logloss:0.14447\n",
      "[24]\tvalidation_0-logloss:0.13882\n",
      "[25]\tvalidation_0-logloss:0.13479\n",
      "[26]\tvalidation_0-logloss:0.13130\n",
      "[27]\tvalidation_0-logloss:0.12822\n",
      "[28]\tvalidation_0-logloss:0.12393\n",
      "[29]\tvalidation_0-logloss:0.12148\n",
      "[30]\tvalidation_0-logloss:0.11976\n",
      "[31]\tvalidation_0-logloss:0.11891\n",
      "[32]\tvalidation_0-logloss:0.11537\n",
      "[33]\tvalidation_0-logloss:0.11458\n",
      "[34]\tvalidation_0-logloss:0.11437\n",
      "[35]\tvalidation_0-logloss:0.11219\n",
      "[36]\tvalidation_0-logloss:0.11082\n",
      "[37]\tvalidation_0-logloss:0.10974\n",
      "[38]\tvalidation_0-logloss:0.10739\n",
      "[39]\tvalidation_0-logloss:0.10740\n",
      "[40]\tvalidation_0-logloss:0.10719\n",
      "[41]\tvalidation_0-logloss:0.10519\n",
      "[42]\tvalidation_0-logloss:0.10506\n",
      "[43]\tvalidation_0-logloss:0.10544\n",
      "[44]\tvalidation_0-logloss:0.10295\n",
      "[45]\tvalidation_0-logloss:0.10140\n",
      "[46]\tvalidation_0-logloss:0.10066\n",
      "[47]\tvalidation_0-logloss:0.10010\n",
      "[48]\tvalidation_0-logloss:0.10062\n",
      "[49]\tvalidation_0-logloss:0.09952\n",
      "[50]\tvalidation_0-logloss:0.10042\n",
      "[51]\tvalidation_0-logloss:0.10085\n",
      "[52]\tvalidation_0-logloss:0.09988\n",
      "[53]\tvalidation_0-logloss:0.10058\n",
      "[54]\tvalidation_0-logloss:0.10112\n",
      "[55]\tvalidation_0-logloss:0.10197\n",
      "[56]\tvalidation_0-logloss:0.10007\n",
      "[57]\tvalidation_0-logloss:0.10031\n",
      "[58]\tvalidation_0-logloss:0.09981\n",
      "[59]\tvalidation_0-logloss:0.10007\n",
      "[60]\tvalidation_0-logloss:0.09835\n",
      "[61]\tvalidation_0-logloss:0.09821\n",
      "[62]\tvalidation_0-logloss:0.09853\n",
      "[63]\tvalidation_0-logloss:0.09772\n",
      "[64]\tvalidation_0-logloss:0.09736\n",
      "[65]\tvalidation_0-logloss:0.09681\n",
      "[66]\tvalidation_0-logloss:0.09633\n",
      "[67]\tvalidation_0-logloss:0.09718\n",
      "[68]\tvalidation_0-logloss:0.09750\n",
      "[69]\tvalidation_0-logloss:0.09650\n",
      "[70]\tvalidation_0-logloss:0.09648\n",
      "[71]\tvalidation_0-logloss:0.09583\n",
      "[72]\tvalidation_0-logloss:0.09565\n",
      "[73]\tvalidation_0-logloss:0.09474\n",
      "[74]\tvalidation_0-logloss:0.09470\n",
      "[75]\tvalidation_0-logloss:0.09419\n",
      "[76]\tvalidation_0-logloss:0.09484\n",
      "[77]\tvalidation_0-logloss:0.09482\n",
      "[78]\tvalidation_0-logloss:0.09425\n",
      "[79]\tvalidation_0-logloss:0.09471\n",
      "[80]\tvalidation_0-logloss:0.09420\n",
      "[81]\tvalidation_0-logloss:0.09404\n",
      "[82]\tvalidation_0-logloss:0.09318\n",
      "[83]\tvalidation_0-logloss:0.09273\n",
      "[84]\tvalidation_0-logloss:0.09284\n",
      "[85]\tvalidation_0-logloss:0.09268\n",
      "[86]\tvalidation_0-logloss:0.09187\n",
      "[87]\tvalidation_0-logloss:0.09207\n",
      "[88]\tvalidation_0-logloss:0.09197\n",
      "[89]\tvalidation_0-logloss:0.09164\n",
      "[90]\tvalidation_0-logloss:0.09123\n",
      "[91]\tvalidation_0-logloss:0.09158\n",
      "[92]\tvalidation_0-logloss:0.09090\n",
      "[93]\tvalidation_0-logloss:0.09055\n",
      "[94]\tvalidation_0-logloss:0.09026\n",
      "[95]\tvalidation_0-logloss:0.09009\n",
      "[96]\tvalidation_0-logloss:0.08972\n",
      "[97]\tvalidation_0-logloss:0.09004\n",
      "[98]\tvalidation_0-logloss:0.08932\n",
      "[99]\tvalidation_0-logloss:0.08978\n",
      "[100]\tvalidation_0-logloss:0.08881\n",
      "[101]\tvalidation_0-logloss:0.08916\n",
      "[102]\tvalidation_0-logloss:0.08927\n",
      "[103]\tvalidation_0-logloss:0.08899\n",
      "[104]\tvalidation_0-logloss:0.08884\n",
      "[105]\tvalidation_0-logloss:0.08864\n",
      "[106]\tvalidation_0-logloss:0.08899\n",
      "[107]\tvalidation_0-logloss:0.08931\n",
      "[108]\tvalidation_0-logloss:0.08904\n",
      "[109]\tvalidation_0-logloss:0.08885\n",
      "[110]\tvalidation_0-logloss:0.08922\n",
      "[111]\tvalidation_0-logloss:0.08934\n",
      "[112]\tvalidation_0-logloss:0.08909\n",
      "[113]\tvalidation_0-logloss:0.08888\n",
      "[114]\tvalidation_0-logloss:0.08920\n",
      "[115]\tvalidation_0-logloss:0.08919\n",
      "[116]\tvalidation_0-logloss:0.08905\n",
      "[117]\tvalidation_0-logloss:0.08865\n",
      "[118]\tvalidation_0-logloss:0.08780\n",
      "[119]\tvalidation_0-logloss:0.08813\n",
      "[120]\tvalidation_0-logloss:0.08800\n",
      "[121]\tvalidation_0-logloss:0.08849\n",
      "[122]\tvalidation_0-logloss:0.08861\n",
      "[123]\tvalidation_0-logloss:0.08835\n",
      "[124]\tvalidation_0-logloss:0.08815\n",
      "[125]\tvalidation_0-logloss:0.08793\n",
      "[126]\tvalidation_0-logloss:0.08775\n",
      "[127]\tvalidation_0-logloss:0.08806\n",
      "[128]\tvalidation_0-logloss:0.08823\n",
      "[129]\tvalidation_0-logloss:0.08812\n",
      "[130]\tvalidation_0-logloss:0.08748\n",
      "[131]\tvalidation_0-logloss:0.08763\n",
      "[132]\tvalidation_0-logloss:0.08703\n",
      "[133]\tvalidation_0-logloss:0.08739\n",
      "[134]\tvalidation_0-logloss:0.08682\n",
      "[135]\tvalidation_0-logloss:0.08624\n",
      "[136]\tvalidation_0-logloss:0.08641\n",
      "[137]\tvalidation_0-logloss:0.08578\n",
      "[138]\tvalidation_0-logloss:0.08568\n",
      "[139]\tvalidation_0-logloss:0.08586\n",
      "[140]\tvalidation_0-logloss:0.08580\n",
      "[141]\tvalidation_0-logloss:0.08560\n",
      "[142]\tvalidation_0-logloss:0.08548\n",
      "[143]\tvalidation_0-logloss:0.08565\n",
      "[144]\tvalidation_0-logloss:0.08546\n",
      "[145]\tvalidation_0-logloss:0.08531\n",
      "[146]\tvalidation_0-logloss:0.08512\n",
      "[147]\tvalidation_0-logloss:0.08472\n",
      "[148]\tvalidation_0-logloss:0.08502\n",
      "[149]\tvalidation_0-logloss:0.08459\n",
      "[150]\tvalidation_0-logloss:0.08455\n",
      "[151]\tvalidation_0-logloss:0.08485\n",
      "[152]\tvalidation_0-logloss:0.08468\n",
      "[153]\tvalidation_0-logloss:0.08456\n",
      "[154]\tvalidation_0-logloss:0.08467\n",
      "[155]\tvalidation_0-logloss:0.08478\n",
      "[156]\tvalidation_0-logloss:0.08444\n",
      "[157]\tvalidation_0-logloss:0.08404\n",
      "[158]\tvalidation_0-logloss:0.08415\n",
      "[159]\tvalidation_0-logloss:0.08377\n",
      "[160]\tvalidation_0-logloss:0.08396\n",
      "[161]\tvalidation_0-logloss:0.08407\n",
      "[162]\tvalidation_0-logloss:0.08383\n",
      "[163]\tvalidation_0-logloss:0.08374\n",
      "[164]\tvalidation_0-logloss:0.08385\n",
      "[165]\tvalidation_0-logloss:0.08382\n",
      "[166]\tvalidation_0-logloss:0.08372\n",
      "[167]\tvalidation_0-logloss:0.08401\n",
      "[168]\tvalidation_0-logloss:0.08398\n",
      "[169]\tvalidation_0-logloss:0.08389\n",
      "[170]\tvalidation_0-logloss:0.08399\n",
      "[171]\tvalidation_0-logloss:0.08418\n",
      "[172]\tvalidation_0-logloss:0.08431\n",
      "[173]\tvalidation_0-logloss:0.08395\n",
      "[174]\tvalidation_0-logloss:0.08413\n",
      "[175]\tvalidation_0-logloss:0.08410\n",
      "[176]\tvalidation_0-logloss:0.08423\n",
      "[177]\tvalidation_0-logloss:0.08433\n",
      "[178]\tvalidation_0-logloss:0.08398\n",
      "[179]\tvalidation_0-logloss:0.08411\n",
      "[180]\tvalidation_0-logloss:0.08438\n",
      "[181]\tvalidation_0-logloss:0.08403\n",
      "[182]\tvalidation_0-logloss:0.08427\n",
      "[183]\tvalidation_0-logloss:0.08418\n",
      "[184]\tvalidation_0-logloss:0.08416\n",
      "[185]\tvalidation_0-logloss:0.08407\n",
      "[186]\tvalidation_0-logloss:0.08420\n",
      "[187]\tvalidation_0-logloss:0.08446\n",
      "[188]\tvalidation_0-logloss:0.08412\n",
      "[189]\tvalidation_0-logloss:0.08435\n",
      "[190]\tvalidation_0-logloss:0.08434\n",
      "[191]\tvalidation_0-logloss:0.08424\n",
      "[192]\tvalidation_0-logloss:0.08435\n",
      "[193]\tvalidation_0-logloss:0.08452\n",
      "[194]\tvalidation_0-logloss:0.08465\n",
      "[195]\tvalidation_0-logloss:0.08475\n",
      "[196]\tvalidation_0-logloss:0.08473\n",
      "[197]\tvalidation_0-logloss:0.08490\n",
      "[198]\tvalidation_0-logloss:0.08502\n",
      "[199]\tvalidation_0-logloss:0.08511\n",
      "[200]\tvalidation_0-logloss:0.08502\n",
      "[201]\tvalidation_0-logloss:0.08500\n",
      "[202]\tvalidation_0-logloss:0.08491\n",
      "[203]\tvalidation_0-logloss:0.08513\n",
      "[204]\tvalidation_0-logloss:0.08529\n",
      "[205]\tvalidation_0-logloss:0.08538\n",
      "[206]\tvalidation_0-logloss:0.08550\n",
      "[207]\tvalidation_0-logloss:0.08548\n",
      "[208]\tvalidation_0-logloss:0.08538\n",
      "[209]\tvalidation_0-logloss:0.08529\n",
      "[210]\tvalidation_0-logloss:0.08495\n",
      "[211]\tvalidation_0-logloss:0.08515\n",
      "[212]\tvalidation_0-logloss:0.08502\n",
      "[213]\tvalidation_0-logloss:0.08511\n",
      "[214]\tvalidation_0-logloss:0.08527\n",
      "[215]\tvalidation_0-logloss:0.08517\n",
      "[216]\tvalidation_0-logloss:0.08526\n",
      "[217]\tvalidation_0-logloss:0.08538\n",
      "[218]\tvalidation_0-logloss:0.08549\n",
      "[219]\tvalidation_0-logloss:0.08547\n",
      "[220]\tvalidation_0-logloss:0.08556\n",
      "[221]\tvalidation_0-logloss:0.08568\n",
      "[222]\tvalidation_0-logloss:0.08579\n",
      "[223]\tvalidation_0-logloss:0.08570\n",
      "[224]\tvalidation_0-logloss:0.08591\n",
      "[225]\tvalidation_0-logloss:0.08579\n",
      "[226]\tvalidation_0-logloss:0.08569\n",
      "[227]\tvalidation_0-logloss:0.08579\n",
      "[228]\tvalidation_0-logloss:0.08543\n",
      "[229]\tvalidation_0-logloss:0.08554\n",
      "[230]\tvalidation_0-logloss:0.08546\n",
      "[231]\tvalidation_0-logloss:0.08545\n",
      "[232]\tvalidation_0-logloss:0.08535\n",
      "[233]\tvalidation_0-logloss:0.08555\n",
      "[234]\tvalidation_0-logloss:0.08547\n",
      "[235]\tvalidation_0-logloss:0.08513\n",
      "[236]\tvalidation_0-logloss:0.08501\n",
      "[237]\tvalidation_0-logloss:0.08492\n",
      "[238]\tvalidation_0-logloss:0.08501\n",
      "[239]\tvalidation_0-logloss:0.08511\n",
      "[240]\tvalidation_0-logloss:0.08522\n",
      "[241]\tvalidation_0-logloss:0.08531\n",
      "[242]\tvalidation_0-logloss:0.08530\n",
      "[243]\tvalidation_0-logloss:0.08549\n",
      "[244]\tvalidation_0-logloss:0.08541\n",
      "[245]\tvalidation_0-logloss:0.08539\n",
      "[246]\tvalidation_0-logloss:0.08549\n",
      "[247]\tvalidation_0-logloss:0.08558\n",
      "[248]\tvalidation_0-logloss:0.08549\n",
      "[249]\tvalidation_0-logloss:0.08538\n",
      "[250]\tvalidation_0-logloss:0.08553\n",
      "[251]\tvalidation_0-logloss:0.08564\n",
      "[252]\tvalidation_0-logloss:0.08556\n",
      "[253]\tvalidation_0-logloss:0.08555\n",
      "[254]\tvalidation_0-logloss:0.08546\n",
      "[255]\tvalidation_0-logloss:0.08555\n",
      "[256]\tvalidation_0-logloss:0.08554\n",
      "[257]\tvalidation_0-logloss:0.08523\n",
      "[258]\tvalidation_0-logloss:0.08515\n",
      "[259]\tvalidation_0-logloss:0.08525\n",
      "[260]\tvalidation_0-logloss:0.08522\n",
      "[261]\tvalidation_0-logloss:0.08541\n",
      "[262]\tvalidation_0-logloss:0.08536\n",
      "[263]\tvalidation_0-logloss:0.08535\n",
      "[264]\tvalidation_0-logloss:0.08544\n",
      "[265]\tvalidation_0-logloss:0.08539\n",
      "[266]\tvalidation_0-logloss:0.08508\n"
     ]
    },
    {
     "data": {
      "text/plain": [
       "(array([0., 1.]), array([0., 1.]), array([1, 0]))"
      ]
     },
     "execution_count": 28,
     "metadata": {},
     "output_type": "execute_result"
    }
   ],
   "source": [
    "xgb_clt = XGBClassifier(n_estimators = 400, learning_rate=0.1, max_depth=3)\n",
    "\n",
    "xgb_clt.fit(X_train, y_train, early_stopping_rounds=100, eval_metric='logloss', eval_set=[(X_test,y_test)], verbose=True)\n",
    "\n",
    "pred = xgb_clt.predict(X_test)\n",
    "pred_proba = xgb_clt.predict_proba(X_test)\n",
    "ns_probs = [0 for _ in range(len(y_test))]\n",
    "roc_curve(y_test, ns_probs)"
   ]
  },
  {
   "cell_type": "code",
   "execution_count": 29,
   "metadata": {},
   "outputs": [
    {
     "data": {
      "image/png": "[encoded data removed]",
      "text/plain": [
       "<Figure size 432x288 with 1 Axes>"
      ]
     },
     "metadata": {},
     "output_type": "display_data"
    },
    {
     "name": "stdout",
     "output_type": "stream",
     "text": [
      "오차행렬 \n",
      "[[ 57   5]\n",
      " [  1 108]]\n",
      "정확도 \n",
      "0.9649\n",
      "정밀도 \n",
      "0.9558\n",
      "재현율 \n",
      "0.9908\n",
      "f1_score \n",
      "0.9730\n",
      "AUC \n",
      "0.9551\n"
     ]
    }
   ],
   "source": [
    "get_clt_eval(y_test, pred)"
   ]
  },
  {
   "cell_type": "markdown",
   "metadata": {},
   "source": [
    "# sklearn.svm.SVC\n",
    "* class sklearn.svm.SVC(*, C=1.0, kernel='rbf', degree=3, gamma='scale', coef0=0.0, shrinking=True, probability=False, tol=0.001, cache_size=200, class_weight=None, verbose=False, max_iter=- 1, decision_function_shape='ovr', break_ties=False, random_state=None)"
   ]
  },
  {
   "cell_type": "code",
   "execution_count": 32,
   "metadata": {},
   "outputs": [
    {
     "name": "stdout",
     "output_type": "stream",
     "text": [
      "SVM 정확도 : 0.9600\n"
     ]
    }
   ],
   "source": [
    "from sklearn import datasets\n",
    "from sklearn.metrics import accuracy_score\n",
    "from sklearn import svm\n",
    "from sklearn.model_selection import train_test_split\n",
    "\n",
    "iris = datasets.load_iris()\n",
    "X = iris.data\n",
    "y = iris.target\n",
    "X_train, X_test, y_train, y_test = train_test_split(X, y, test_size=0.5)\n",
    "\n",
    "\n",
    "clf = svm.SVC(gamma=0.001, C=100)\n",
    "clf.fit(X_train, y_train)\n",
    "pred = clf.predict(X_test)\n",
    "\n",
    "print(f'SVM 정확도 : {accuracy_score(y_test, pred):.4f}')"
   ]
  },
  {
   "cell_type": "markdown",
   "metadata": {},
   "source": [
    "# sklearn.neighbors.KNeighborsClassifier\n",
    "* class sklearn.neighbors.KNeighborsClassifier(n_neighbors=5, *, weights='uniform', algorithm='auto', leaf_size=30, p=2, metric='minkowski', metric_params=None, n_jobs=None)"
   ]
  },
  {
   "cell_type": "code",
   "execution_count": 33,
   "metadata": {},
   "outputs": [
    {
     "data": {
      "text/plain": [
       "<matplotlib.legend.Legend at 0x1e0fdd8e920>"
      ]
     },
     "execution_count": 33,
     "metadata": {},
     "output_type": "execute_result"
    },
    {
     "data": {
      "image/png": "[encoded data removed]",
      "text/plain": [
       "<Figure size 432x288 with 1 Axes>"
      ]
     },
     "metadata": {},
     "output_type": "display_data"
    }
   ],
   "source": [
    "from sklearn.datasets import load_iris\n",
    "import matplotlib.pyplot as plt\n",
    "\n",
    "iris = load_iris()\n",
    "sepal = iris.data[:, 0:2]\n",
    "kind = iris.target\n",
    "\n",
    "plt.figure(facecolor='w')\n",
    "plt.xlabel('Sepal Length')\n",
    "plt.ylabel('Sepal Width')\n",
    "\n",
    "plt.plot(sepal[kind == 0][:,0], sepal[kind == 0][:,1], \"ro\", label = 'Setosa')\n",
    "plt.plot(sepal[kind == 1][:,0], sepal[kind == 1][:,1], \"bo\", label = 'Versicolor')\n",
    "plt.plot(sepal[kind == 2][:,0], sepal[kind == 2][:,1], \"yo\", label = 'Virginica')\n",
    "\n",
    "plt.legend()\n"
   ]
  },
  {
   "cell_type": "code",
   "execution_count": 34,
   "metadata": {},
   "outputs": [],
   "source": [
    "from sklearn.model_selection import train_test_split\n",
    "\n",
    "X = iris.data\n",
    "y = iris.target\n",
    "\n",
    "X_train, X_test, y_train, y_test = train_test_split(X,y, test_size=0.2, random_state=4)"
   ]
  },
  {
   "cell_type": "code",
   "execution_count": 35,
   "metadata": {},
   "outputs": [
    {
     "data": {
      "text/plain": [
       "0.9666666666666667"
      ]
     },
     "execution_count": 35,
     "metadata": {},
     "output_type": "execute_result"
    }
   ],
   "source": [
    "from sklearn.neighbors import KNeighborsClassifier\n",
    "\n",
    "knn = KNeighborsClassifier(n_neighbors=6)\n",
    "knn.fit(X_train, y_train)\n",
    "\n",
    "y_pred = knn.predict(X_test)\n",
    "scores = accuracy_score(y_test, y_pred)\n",
    "scores"
   ]
  },
  {
   "cell_type": "code",
   "execution_count": 36,
   "metadata": {},
   "outputs": [
    {
     "name": "stdout",
     "output_type": "stream",
     "text": [
      "versicolor\n",
      "setosa\n"
     ]
    }
   ],
   "source": [
    "knn = KNeighborsClassifier(n_neighbors=5)\n",
    "knn.fit(X,y)\n",
    "\n",
    "classes = {0 : 'setosa', 1 : 'versicolor', 2 : 'virginica'}\n",
    "\n",
    "# 새로운 데이터 대입\n",
    "x_new = [[3,4,5,2],[5,4,2,2]]\n",
    "y_predict = knn.predict(x_new)\n",
    "\n",
    "print(classes[y_predict[0]])\n",
    "print(classes[y_predict[1]])"
   ]
  },
  {
   "cell_type": "code",
   "execution_count": null,
   "metadata": {},
   "outputs": [],
   "source": []
  }
 ],
 "metadata": {
  "interpreter": {
   "hash": "8d3a68eede2cceb1eacb5149b1db1c5d1603031fd99060d6db31a21913c926e4"
  },
  "kernelspec": {
   "display_name": "Python 3.10.2 64-bit",
   "language": "python",
   "name": "python3"
  },
  "language_info": {
   "codemirror_mode": {
    "name": "ipython",
    "version": 3
   },
   "file_extension": ".py",
   "mimetype": "text/x-python",
   "name": "python",
   "nbconvert_exporter": "python",
   "pygments_lexer": "ipython3",
   "version": "3.10.2"
  },
  "orig_nbformat": 4
 },
 "nbformat": 4,
 "nbformat_minor": 2
}
