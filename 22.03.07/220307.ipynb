{
 "cells": [
  {
   "cell_type": "markdown",
   "metadata": {},
   "source": []
  },
  {
   "cell_type": "code",
   "execution_count": 1,
   "metadata": {},
   "outputs": [],
   "source": [
    "### class 선언\n",
    "class Class_1():\n",
    "    def fun_1(self):\n",
    "        print(\"Hello world\")\n",
    "\n"
   ]
  },
  {
   "cell_type": "code",
   "execution_count": 2,
   "metadata": {},
   "outputs": [
    {
     "name": "stdout",
     "output_type": "stream",
     "text": [
      "Hello world\n"
     ]
    }
   ],
   "source": [
    "a = Class_1()\n",
    "a.fun_1()"
   ]
  },
  {
   "cell_type": "code",
   "execution_count": 42,
   "metadata": {},
   "outputs": [
    {
     "ename": "TypeError",
     "evalue": "Class_2.func_2() takes 0 positional arguments but 1 was given",
     "output_type": "error",
     "traceback": [
      "\u001b[1;31m---------------------------------------------------------------------------\u001b[0m",
      "\u001b[1;31mTypeError\u001b[0m                                 Traceback (most recent call last)",
      "\u001b[1;32mc:\\Users\\kht91\\Desktop\\유비온\\파이썬\\22.03.07\\220307.ipynb Cell 4'\u001b[0m in \u001b[0;36m<module>\u001b[1;34m\u001b[0m\n\u001b[0;32m      <a href='vscode-notebook-cell:/c%3A/Users/kht91/Desktop/%EC%9C%A0%EB%B9%84%EC%98%A8/%ED%8C%8C%EC%9D%B4%EC%8D%AC/22.03.07/220307.ipynb#ch0000004?line=3'>4</a>\u001b[0m         \u001b[39mprint\u001b[39m(\u001b[39m\"\u001b[39m\u001b[39mHello world\u001b[39m\u001b[39m\"\u001b[39m)\n\u001b[0;32m      <a href='vscode-notebook-cell:/c%3A/Users/kht91/Desktop/%EC%9C%A0%EB%B9%84%EC%98%A8/%ED%8C%8C%EC%9D%B4%EC%8D%AC/22.03.07/220307.ipynb#ch0000004?line=5'>6</a>\u001b[0m b \u001b[39m=\u001b[39m Class_2()\n\u001b[1;32m----> <a href='vscode-notebook-cell:/c%3A/Users/kht91/Desktop/%EC%9C%A0%EB%B9%84%EC%98%A8/%ED%8C%8C%EC%9D%B4%EC%8D%AC/22.03.07/220307.ipynb#ch0000004?line=6'>7</a>\u001b[0m b\u001b[39m.\u001b[39;49mfunc_2()\n",
      "\u001b[1;31mTypeError\u001b[0m: Class_2.func_2() takes 0 positional arguments but 1 was given"
     ]
    }
   ],
   "source": [
    "### fun_2()에서 인자값인 self 가 빠져있기 때문에 에러가 난다.\n",
    "class Class_2():\n",
    "    def func_2():  ###  def func_2(self)로 작성하면 정상적으로 'Hello world'가 출력된다.\n",
    "        print(\"Hello world\")\n",
    "\n",
    "b = Class_2()\n",
    "b.func_2()"
   ]
  },
  {
   "cell_type": "code",
   "execution_count": 5,
   "metadata": {},
   "outputs": [
    {
     "data": {
      "text/plain": [
       "'test1'"
      ]
     },
     "execution_count": 5,
     "metadata": {},
     "output_type": "execute_result"
    }
   ],
   "source": [
    "class Class_3():\n",
    "    def __init__(self, input_a, input_b):  ### Class_3를 생성할때 __init__이라는 함수가 실행된다.\n",
    "        self.a = input_a\n",
    "        self.b = input_b\n",
    "\n",
    "### c = Class_3()\n",
    "### 2개의 input값이 필요한데 작성해 주지 않았기 때문에 에러가 난다. \n",
    "\n",
    "c = Class_3(\"test1\", \"test2\")  ### 따라서 input 값 두개를 넣어주면 문제없이 돌아가는것을 알 수 있다.\n",
    "c.a"
   ]
  },
  {
   "cell_type": "code",
   "execution_count": 27,
   "metadata": {},
   "outputs": [
    {
     "data": {
      "text/plain": [
       "'test3'"
      ]
     },
     "execution_count": 27,
     "metadata": {},
     "output_type": "execute_result"
    }
   ],
   "source": [
    "d = Class_3(\"test3\", \"test4\")\n",
    "d.a"
   ]
  },
  {
   "cell_type": "code",
   "execution_count": 12,
   "metadata": {},
   "outputs": [
    {
     "data": {
      "text/plain": [
       "3024824699632"
      ]
     },
     "execution_count": 12,
     "metadata": {},
     "output_type": "execute_result"
    }
   ],
   "source": [
    "id(c.a) ### c.a가 저장되어있는 공간을 알려준다."
   ]
  },
  {
   "cell_type": "code",
   "execution_count": 14,
   "metadata": {},
   "outputs": [],
   "source": [
    "class Class_4():\n",
    "    \n",
    "    name = \"test\"   ### Class_4().name 은 input 값과 상관없이 전부 test를 출력한다.\n",
    "\n",
    "    def __init__(self, input_d):\n",
    "        self.d = input_d\n",
    "\n",
    "a = Class_4(\"123\")\n",
    "b = Class_4(\"456\")\n",
    "c = Class_4(\"789\")"
   ]
  },
  {
   "cell_type": "code",
   "execution_count": 15,
   "metadata": {},
   "outputs": [
    {
     "name": "stdout",
     "output_type": "stream",
     "text": [
      "test test test\n",
      "123 456 789\n"
     ]
    }
   ],
   "source": [
    "print(a.name, b.name, c.name)\n",
    "print(a.d, b.d, c.d)"
   ]
  },
  {
   "cell_type": "code",
   "execution_count": 29,
   "metadata": {},
   "outputs": [
    {
     "name": "stdout",
     "output_type": "stream",
     "text": [
      "['0101234567'] ['0109876543']\n"
     ]
    }
   ],
   "source": [
    "class Class_5():\n",
    "\n",
    "    def __init__(self, input_name):\n",
    "        self.name = input_name\n",
    "        self._list = []  ### _list는 Class_5()가 실행될때 실행되기 때문에 새로운 Class_5()가 실행되면 _list는 []가 된다.\n",
    "\n",
    "    def add_list(self, input_phone):\n",
    "        self._list.append(input_phone) ### 따라서 새로운 클래스를 저장할때마다 _list 에 추가된다.\n",
    "\n",
    "d = Class_5(\"test1\")\n",
    "e = Class_5(\"test2\")\n",
    "d.add_list(\"0101234567\")\n",
    "e.add_list(\"0109876543\")\n",
    "print(d._list, e._list)"
   ]
  },
  {
   "cell_type": "code",
   "execution_count": 30,
   "metadata": {},
   "outputs": [
    {
     "name": "stdout",
     "output_type": "stream",
     "text": [
      "3\n",
      "7\n"
     ]
    }
   ],
   "source": [
    "sum = 0\n",
    "\n",
    "def add(x):\n",
    "    global sum\n",
    "    sum += x\n",
    "    return sum\n",
    "\n",
    "print(add(3))\n",
    "print(add(4))"
   ]
  },
  {
   "cell_type": "code",
   "execution_count": 31,
   "metadata": {},
   "outputs": [
    {
     "name": "stdout",
     "output_type": "stream",
     "text": [
      "3\n",
      "4\n",
      "13\n",
      "5\n"
     ]
    }
   ],
   "source": [
    "sum_1 = 0\n",
    "sum_2 = 0\n",
    "def add_1(x):\n",
    "    global sum_1\n",
    "    sum_1 += x\n",
    "    return sum_1\n",
    "\n",
    "def add_2(x):\n",
    "    global sum_2\n",
    "    sum_2 += x\n",
    "    return sum_2\n",
    "\n",
    "print(add_1(3))\n",
    "print(add_2(4))\n",
    "print(add_1(10))\n",
    "print(add_2(1))"
   ]
  },
  {
   "cell_type": "code",
   "execution_count": 43,
   "metadata": {},
   "outputs": [
    {
     "name": "stdout",
     "output_type": "stream",
     "text": [
      "5 6\n"
     ]
    }
   ],
   "source": [
    "class Class_6():\n",
    "    def __init__(self, input):\n",
    "        self.input = input\n",
    "        self.sum = 0\n",
    "\n",
    "    def add(self, input):\n",
    "        self.sum += input\n",
    "\n",
    "a = Class_6(\"sum1\")\n",
    "b = Class_6(\"sum2\")\n",
    "a.add(5)\n",
    "b.add(6)\n",
    "print(a.sum, b.sum)"
   ]
  },
  {
   "cell_type": "code",
   "execution_count": 44,
   "metadata": {},
   "outputs": [
    {
     "name": "stdout",
     "output_type": "stream",
     "text": [
      "13 15\n"
     ]
    }
   ],
   "source": [
    "a.add(8)\n",
    "b.add(9)\n",
    "print(a.sum, b.sum)"
   ]
  },
  {
   "cell_type": "code",
   "execution_count": 45,
   "metadata": {},
   "outputs": [
    {
     "name": "stdout",
     "output_type": "stream",
     "text": [
      "sum1 = 13\n",
      "sum2 = 15\n"
     ]
    }
   ],
   "source": [
    "print(a.input, \"=\" , a.sum)\n",
    "print(b.input, \"=\", b.sum)"
   ]
  },
  {
   "cell_type": "code",
   "execution_count": 49,
   "metadata": {},
   "outputs": [
    {
     "name": "stdout",
     "output_type": "stream",
     "text": [
      "5 6\n"
     ]
    }
   ],
   "source": [
    "class Class_7():\n",
    "    def __init__(self, input):\n",
    "        self.input = input\n",
    "        self.sum = 0\n",
    "\n",
    "    def add(self, input):\n",
    "        self.sum += input\n",
    "        return self.sum\n",
    "\n",
    "a = Class_7(\"sum1\")\n",
    "b = Class_7(\"sum2\")\n",
    "print(a.add(5), b.add(6))"
   ]
  },
  {
   "cell_type": "code",
   "execution_count": null,
   "metadata": {},
   "outputs": [],
   "source": [
    "### 1. Class 생성 => 초기에 인자값 2개를 입력 받아서 변수 2개에 이값들을 지정.\n",
    "### 2. 첫번째 함수에서는 변수 2개의 값을 변경을 하는 함수\n",
    "### 3. 이후 함수는 변수 2개의 +, -, * , /, % 의 함수를 생성\n",
    "### 4. 6개의 함수를 전부 실행하기"
   ]
  },
  {
   "cell_type": "code",
   "execution_count": 81,
   "metadata": {},
   "outputs": [],
   "source": [
    "class Class_8():\n",
    "    \n",
    "    def __init__(self, input_x, input_y):\n",
    "        self.x = input_x\n",
    "        self.y = input_y\n",
    "    \n",
    "    def change(self, input_x, input_y):\n",
    "        self.x = input_x\n",
    "        self.y = input_y\n",
    "\n",
    "    def add(self):\n",
    "        return self.x + self.y\n",
    "\n",
    "    def dif(self):\n",
    "        return self.x - self.y\n",
    "\n",
    "    def mul(self):\n",
    "        return self.x * self.y\n",
    "\n",
    "    def div(self):\n",
    "        if self.y == 0:\n",
    "            return 0\n",
    "        else:\n",
    "            return self.x / self.y\n",
    "    \n",
    "    def rem(self):\n",
    "        if self.y == 0:\n",
    "            return 0\n",
    "        else:\n",
    "            return self.x % self.y\n",
    "\n",
    "        "
   ]
  },
  {
   "cell_type": "code",
   "execution_count": 86,
   "metadata": {},
   "outputs": [
    {
     "name": "stdout",
     "output_type": "stream",
     "text": [
      "30\n",
      "-10\n",
      "200\n",
      "0.5\n",
      "10\n"
     ]
    }
   ],
   "source": [
    "a = Class_8(10,20)\n",
    "print(a.add())\n",
    "print(a.dif())\n",
    "print(a.mul())\n",
    "print(a.div())\n",
    "print(a.rem())"
   ]
  },
  {
   "cell_type": "code",
   "execution_count": 87,
   "metadata": {},
   "outputs": [
    {
     "name": "stdout",
     "output_type": "stream",
     "text": [
      "3\n",
      "3\n",
      "0\n",
      "0\n",
      "0\n"
     ]
    }
   ],
   "source": [
    "a.change(3,0)\n",
    "print(a.add())\n",
    "print(a.dif())\n",
    "print(a.mul())\n",
    "print(a.div())\n",
    "print(a.rem())"
   ]
  },
  {
   "cell_type": "code",
   "execution_count": null,
   "metadata": {},
   "outputs": [],
   "source": [
    "### 1. Class에 변두개의 길이를 인자값으로 넣어주는 클래스를 생성\n",
    "### 2. 삼각형일때 넓이, 사각형일때 넓이를 구하는 함수를 생성\n",
    "### 단, 함수는 init을 제외한 단 1개의 함수.\n",
    "###     인자값에서 삼각형의 넓이인지 사각형의 넓이인지 지정을 해준다."
   ]
  },
  {
   "cell_type": "code",
   "execution_count": 91,
   "metadata": {},
   "outputs": [],
   "source": [
    "class Class_9():\n",
    "    \n",
    "    def __init__(self, input_x, input_y):\n",
    "        self.x = input_x\n",
    "        self.y = input_y\n",
    "\n",
    "    def cal(self, det):\n",
    "        \n",
    "        if det == 0:                        ### 0 을 입력하면 삼각형의 넓이를 구한다.\n",
    "            return 0.5 * self.x * self.y\n",
    "        elif det == 1:                      ### 1 을 입력하면 사각형의 넓이를 구한다.\n",
    "            return self.x * self.y\n",
    "        else :                              ### 그 이외의 값이 들어가면 \"다시 입력해주세요\"를 출력한다.\n",
    "            return \"다시 입력해주세요\"\n",
    "\n"
   ]
  },
  {
   "cell_type": "code",
   "execution_count": 90,
   "metadata": {},
   "outputs": [
    {
     "name": "stdout",
     "output_type": "stream",
     "text": [
      "25.0\n",
      "50\n",
      "다시 입력해주세요\n"
     ]
    }
   ],
   "source": [
    "cal_1 = Class_9(5,10)\n",
    "print(cal_1.cal(0))\n",
    "print(cal_1.cal(1))\n",
    "print(cal_1.cal(2))"
   ]
  },
  {
   "cell_type": "code",
   "execution_count": null,
   "metadata": {},
   "outputs": [],
   "source": [
    "### 1. 원의 넓이와 둘레를 구하는 클래스를 하나 생성한다.\n",
    "### 2. 반원의 넓이와 둘레를 구하는 클래스를 하나 생성하며 1번에서 생성한 클래스를 상속받는다.\n",
    "### 3. 2번에서 생성한 클래스 내에서 1번에서 생성한 클래스와 동일한 함수명을 가진 함수를 작성한다.\n",
    "### 4. 결과값을 비교해본다."
   ]
  },
  {
   "cell_type": "code",
   "execution_count": 92,
   "metadata": {},
   "outputs": [
    {
     "name": "stdout",
     "output_type": "stream",
     "text": [
      "[[18.84, 28.26]]\n"
     ]
    }
   ],
   "source": [
    "class Class_10():\n",
    "\n",
    "    pi = 3.14\n",
    "\n",
    "    def area(self, r):\n",
    "        self.result = []\n",
    "        self.result.append([2*self.pi*r, self.pi * (r**2)])\n",
    "        return self.result\n",
    "\n",
    "x = Class_10()\n",
    "print(x.area(3))"
   ]
  },
  {
   "cell_type": "code",
   "execution_count": 96,
   "metadata": {},
   "outputs": [
    {
     "name": "stdout",
     "output_type": "stream",
     "text": [
      "[[15.42, 14.13]]\n",
      "[[18.84, 28.26]]\n"
     ]
    }
   ],
   "source": [
    "class Class_11(Class_10):\n",
    "    \n",
    "    def __init__(self, input_r):\n",
    "        self.r = input_r\n",
    "    \n",
    "    def half(self):\n",
    "        self.result = []\n",
    "        self.result.append([self.pi*self.r+2*self.r, 0.5 * self.pi *(self.r**2)])\n",
    "        return self.result\n",
    "\n",
    "y = Class_11(3)\n",
    "print(y.half())\n",
    "print(y.area(3)) ### area라는 함수는 class_10에 있는 함수이기 때문에 input 값을 적어줘야 한다."
   ]
  },
  {
   "cell_type": "code",
   "execution_count": 99,
   "metadata": {},
   "outputs": [
    {
     "name": "stdout",
     "output_type": "stream",
     "text": [
      "[[15.42, 14.13]]\n",
      "[[18.84, 28.26]]\n",
      "[[18.84, 28.26]]\n"
     ]
    }
   ],
   "source": [
    "class Class_11(Class_10):\n",
    "    \n",
    "    def __init__(self, input_r):\n",
    "        self.r = input_r\n",
    "    \n",
    "    def half(self):\n",
    "        self.result = []\n",
    "        self.result.append([self.pi*self.r+2*self.r, 0.5 * self.pi *(self.r**2)])\n",
    "        return self.result\n",
    "    \n",
    "    def area(self): ### Class_10에 존재하는 area 함수와 동일한 함수명을 class_11에서 작성함으로써\n",
    "                    ### Class_11에서 area 함수를 적용시킬땐 변경된 함수로 작동하게 된다.\n",
    "        self.result = []\n",
    "        self.result.append([2*self.pi*self.r, self.pi * (self.r**2)])\n",
    "        return self.result\n",
    "\n",
    "y = Class_11(3)\n",
    "print(y.half())\n",
    "print(y.area())\n",
    "print(x.area(3)) ### Class_10에 존재하는 area 함수를 변경한것이 아니기때문에 Class_10의 area함수 또한 잘 작동한다."
   ]
  },
  {
   "cell_type": "code",
   "execution_count": null,
   "metadata": {},
   "outputs": [],
   "source": []
  }
 ],
 "metadata": {
  "interpreter": {
   "hash": "8d3a68eede2cceb1eacb5149b1db1c5d1603031fd99060d6db31a21913c926e4"
  },
  "kernelspec": {
   "display_name": "Python 3.10.2 64-bit",
   "language": "python",
   "name": "python3"
  },
  "language_info": {
   "codemirror_mode": {
    "name": "ipython",
    "version": 3
   },
   "file_extension": ".py",
   "mimetype": "text/x-python",
   "name": "python",
   "nbconvert_exporter": "python",
   "pygments_lexer": "ipython3",
   "version": "3.10.2"
  },
  "orig_nbformat": 4
 },
 "nbformat": 4,
 "nbformat_minor": 2
}
